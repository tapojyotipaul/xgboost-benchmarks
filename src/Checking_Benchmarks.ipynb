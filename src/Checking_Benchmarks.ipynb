{
 "cells": [
  {
   "cell_type": "code",
   "execution_count": 23,
   "metadata": {},
   "outputs": [
    {
     "name": "stdout",
     "output_type": "stream",
     "text": [
      "1 ,     median     mean        std_dev  ...   max_time  quantile_10  quantile_90\n",
      "0   113.0  32645.7  323634.873107  ...  3252772.0        111.0        117.0\n",
      "\n",
      "[1 rows x 7 columns]\n",
      "10 ,     median    mean   std_dev  min_time  max_time  quantile_10  quantile_90\n",
      "0    12.9  13.442  4.055223      12.6      53.1         12.7        13.21\n",
      "100 ,     median    mean   std_dev  min_time  max_time  quantile_10  quantile_90\n",
      "0    2.14  2.1972  0.419385      2.11      6.29         2.12        2.181\n",
      "1000 ,     median     mean  std_dev  min_time  max_time  quantile_10  quantile_90\n",
      "0   0.466  0.66065  1.24126     0.341     12.55       0.4039       0.7961\n",
      "10000 ,      median      mean   std_dev  min_time  max_time  quantile_10  quantile_90\n",
      "0  0.22655  0.227358  0.012862    0.2169    0.3445      0.21986      0.23414\n",
      "__________________Summary_______________________\n",
      "      median          mean  ...  quantile_90  No_of_Observation\n",
      "0  113.00000  32645.700000  ...    117.00000                  1\n",
      "0   12.90000     13.442000  ...     13.21000                 10\n",
      "0    2.14000      2.197200  ...      2.18100                100\n",
      "0    0.46600      0.660650  ...      0.79610               1000\n",
      "0    0.22655      0.227358  ...      0.23414              10000\n",
      "\n",
      "[5 rows x 8 columns]\n"
     ]
    },
    {
     "name": "stderr",
     "output_type": "stream",
     "text": [
      "INFO:root:Running benchmark for daal...\n",
      "INFO:root:#, median, mean, std_dev, min_time, max_time, quantile_10, quantile_90\n"
     ]
    }
   ],
   "source": [
    "!python run.py -m=daal -o=10000"
   ]
  },
  {
   "cell_type": "code",
   "execution_count": 14,
   "metadata": {},
   "outputs": [
    {
     "name": "stdout",
     "output_type": "stream",
     "text": [
      "Computing for Linear Regression With Daal\n",
      "_______________________________________\n",
      "Total Number of Rows 1\n",
      "1 ,     median     mean      std_dev  min_time  max_time  quantile_10  quantile_90\n",
      "0  1694.0  2032.05  2354.982723    1660.0   25146.0       1676.0       1759.3\n",
      "_______________________________________\n",
      "Total Number of Rows 10\n",
      "10 ,     median     mean     std_dev  min_time  max_time  quantile_10  quantile_90\n",
      "0  243.05  284.534  102.325607     184.1     828.0        187.8       448.24\n",
      "_______________________________________\n",
      "Total Number of Rows 100\n",
      "100 ,     median     mean   std_dev  min_time  max_time  quantile_10  quantile_90\n",
      "0   18.31  19.0017  1.599961     17.99     27.29        18.12       20.651\n",
      "_______________________________________\n",
      "Total Number of Rows 1000\n",
      "1000 ,     median     mean   std_dev  min_time  max_time  quantile_10  quantile_90\n",
      "0   2.066  2.11601  0.202585     1.965     3.202       1.9939       2.2744\n",
      "_______________________________________\n",
      "Total Number of Rows 10000\n",
      "10000 ,     median      mean   std_dev  min_time  max_time  quantile_10  quantile_90\n",
      "0  0.2868  0.298779  0.036624    0.2773    0.5231      0.27949      0.32645\n",
      "__________________Summary_______________________\n",
      "      median         mean  ...  quantile_90  No_of_Observation\n",
      "0  1694.0000  2032.050000  ...   1759.30000                  1\n",
      "0   243.0500   284.534000  ...    448.24000                 10\n",
      "0    18.3100    19.001700  ...     20.65100                100\n",
      "0     2.0660     2.116010  ...      2.27440               1000\n",
      "0     0.2868     0.298779  ...      0.32645              10000\n",
      "\n",
      "[5 rows x 8 columns]\n"
     ]
    },
    {
     "name": "stderr",
     "output_type": "stream",
     "text": [
      "INFO:root:Running benchmark for daal_lm...\n",
      "INFO:root:#, median, mean, std_dev, min_time, max_time, quantile_10, quantile_90\n"
     ]
    }
   ],
   "source": [
    "!python run.py -m=daal_lm -o=10000"
   ]
  },
  {
   "cell_type": "code",
   "execution_count": 22,
   "metadata": {},
   "outputs": [
    {
     "name": "stdout",
     "output_type": "stream",
     "text": [
      "Computing for Linear Regression without Daal\n",
      "_______________________________________\n",
      "Total Number of Rows 1\n",
      "1 ,     median     mean     std_dev  min_time  max_time  quantile_10  quantile_90\n",
      "0  4467.0  4722.91  544.162036    4419.0    6061.0       4445.0       5923.4\n",
      "_______________________________________\n",
      "Total Number of Rows 10\n",
      "10 ,     median     mean    std_dev  min_time  max_time  quantile_10  quantile_90\n",
      "0  545.75  525.262  94.464012     443.0     878.0       445.49       557.65\n",
      "_______________________________________\n",
      "Total Number of Rows 100\n",
      "100 ,     median     mean   std_dev  min_time  max_time  quantile_10  quantile_90\n",
      "0  54.795  53.2633  4.575472      44.8     75.81       45.127       55.401\n",
      "_______________________________________\n",
      "Total Number of Rows 1000\n",
      "1000 ,     median    mean   std_dev  min_time  max_time  quantile_10  quantile_90\n",
      "0   5.623  5.7442  0.703228     4.729       8.4       5.3969       6.1623\n",
      "_______________________________________\n",
      "Total Number of Rows 10000\n",
      "10000 ,     median      mean  std_dev  min_time  max_time  quantile_10  quantile_90\n",
      "0  0.6067  0.656448  0.13618    0.5239    1.1005      0.53238      0.93712\n",
      "__________________Summary_______________________\n",
      "      median         mean  ...  quantile_90  No_of_Observation\n",
      "0  4467.0000  4722.910000  ...   5923.40000                  1\n",
      "0   545.7500   525.262000  ...    557.65000                 10\n",
      "0    54.7950    53.263300  ...     55.40100                100\n",
      "0     5.6230     5.744200  ...      6.16230               1000\n",
      "0     0.6067     0.656448  ...      0.93712              10000\n",
      "\n",
      "[5 rows x 8 columns]\n"
     ]
    },
    {
     "name": "stderr",
     "output_type": "stream",
     "text": [
      "INFO:root:Running benchmark for lm...\n",
      "INFO:root:#, median, mean, std_dev, min_time, max_time, quantile_10, quantile_90\n"
     ]
    }
   ],
   "source": [
    "!python run.py -m=lm -o=10000"
   ]
  },
  {
   "cell_type": "code",
   "execution_count": 16,
   "metadata": {},
   "outputs": [
    {
     "name": "stdout",
     "output_type": "stream",
     "text": [
      "Computing for Random Forest\n",
      "_______________________________________\n",
      "Total Number of Rows 1\n",
      "1 ,     median     mean     std_dev  min_time  max_time  quantile_10  quantile_90\n",
      "0  1788.5  1876.37  428.267082    1750.0    5903.0       1762.9       1996.7\n",
      "_______________________________________\n",
      "Total Number of Rows 10\n",
      "10 ,     median     mean    std_dev  min_time  max_time  quantile_10  quantile_90\n",
      "0  248.95  256.516  35.009052     224.2     422.9       230.28       304.41\n",
      "_______________________________________\n",
      "Total Number of Rows 100\n",
      "100 ,     median     mean   std_dev  min_time  max_time  quantile_10  quantile_90\n",
      "0   45.77  47.9017  7.249318      41.8     89.21        42.48       56.829\n",
      "_______________________________________\n",
      "Total Number of Rows 1000\n",
      "1000 ,     median      mean   std_dev  min_time  max_time  quantile_10  quantile_90\n",
      "0  21.457  21.35936  0.653931    20.397    23.245      20.4917      22.1125\n",
      "_______________________________________\n",
      "Total Number of Rows 10000\n",
      "10000 ,       median       mean   std_dev  min_time  max_time  quantile_10  quantile_90\n",
      "0  19.80365  20.937175  2.593162   18.5494   30.9309      18.7665     24.56144\n",
      "__________________Summary_______________________\n",
      "       median         mean  ...  quantile_90  No_of_Observation\n",
      "0  1788.50000  1876.370000  ...   1996.70000                  1\n",
      "0   248.95000   256.516000  ...    304.41000                 10\n",
      "0    45.77000    47.901700  ...     56.82900                100\n",
      "0    21.45700    21.359360  ...     22.11250               1000\n",
      "0    19.80365    20.937175  ...     24.56144              10000\n",
      "\n",
      "[5 rows x 8 columns]\n"
     ]
    },
    {
     "name": "stderr",
     "output_type": "stream",
     "text": [
      "INFO:root:Running benchmark for daal_rf...\n",
      "INFO:root:#, median, mean, std_dev, min_time, max_time, quantile_10, quantile_90\n"
     ]
    }
   ],
   "source": [
    "!python run.py -m=daal_rf -o=10000"
   ]
  },
  {
   "cell_type": "code",
   "execution_count": 19,
   "metadata": {},
   "outputs": [
    {
     "name": "stdout",
     "output_type": "stream",
     "text": [
      "Computing for Random Forest Regression without Daal\n",
      "_______________________________________\n",
      "Total Number of Rows 1\n",
      "1 ,      median     mean      std_dev  min_time  max_time  quantile_10  quantile_90\n",
      "0  60905.0  61683.2  2020.849381   59773.0   72289.0      60117.3      64500.7\n",
      "_______________________________________\n",
      "Total Number of Rows 10\n",
      "10 ,     median      mean    std_dev  min_time  max_time  quantile_10  quantile_90\n",
      "0  6302.9  6430.858  470.09111    6081.7    8832.4      6123.38      6726.16\n",
      "_______________________________________\n",
      "Total Number of Rows 100\n",
      "100 ,     median      mean    std_dev  min_time  max_time  quantile_10  quantile_90\n",
      "0  731.25  737.7085  24.604824    711.08    886.28      715.652      761.816\n",
      "_______________________________________\n",
      "Total Number of Rows 1000\n",
      "1000 ,       median       mean  std_dev  min_time  max_time  quantile_10  quantile_90\n",
      "0  154.6595  157.45518  6.69741    151.95   179.857     152.9509      170.676\n",
      "_______________________________________\n",
      "Total Number of Rows 10000\n",
      "10000 ,       median       mean   std_dev  min_time  max_time  quantile_10  quantile_90\n",
      "0  84.07545  86.651834  5.944594   83.1617  112.8373      83.2419      92.0294\n",
      "__________________Summary_______________________\n",
      "        median          mean  ...  quantile_90  No_of_Observation\n",
      "0  60905.00000  61683.200000  ...   64500.7000                  1\n",
      "0   6302.90000   6430.858000  ...    6726.1600                 10\n",
      "0    731.25000    737.708500  ...     761.8160                100\n",
      "0    154.65950    157.455180  ...     170.6760               1000\n",
      "0     84.07545     86.651834  ...      92.0294              10000\n",
      "\n",
      "[5 rows x 8 columns]\n"
     ]
    },
    {
     "name": "stderr",
     "output_type": "stream",
     "text": [
      "INFO:root:Running benchmark for rf...\n",
      "INFO:root:#, median, mean, std_dev, min_time, max_time, quantile_10, quantile_90\n"
     ]
    }
   ],
   "source": [
    "!python run.py -m=rf -o=10000"
   ]
  },
  {
   "cell_type": "code",
   "execution_count": 20,
   "metadata": {},
   "outputs": [
    {
     "name": "stdout",
     "output_type": "stream",
     "text": [
      "Computing for Logistic Regression With Daal\n",
      "_______________________________________\n",
      "Total Number of Rows 1\n",
      "1 ,     median     mean       std_dev  min_time  max_time  quantile_10  quantile_90\n",
      "0  3336.0  5655.91  27625.965135    1798.0  280422.0       1849.9       3595.6\n",
      "_______________________________________\n",
      "Total Number of Rows 10\n",
      "10 ,     median     mean    std_dev  min_time  max_time  quantile_10  quantile_90\n",
      "0   229.9  266.654  99.302673     196.8     773.3       215.03       359.44\n",
      "_______________________________________\n",
      "Total Number of Rows 100\n",
      "100 ,     median     mean    std_dev  min_time  max_time  quantile_10  quantile_90\n",
      "0  32.465  39.1371  21.553994     22.52    198.62       25.423       56.195\n",
      "_______________________________________\n",
      "Total Number of Rows 1000\n",
      "1000 ,     median     mean   std_dev  min_time  max_time  quantile_10  quantile_90\n",
      "0  5.7565  5.74529  1.163435     3.182    11.036       4.2893       6.8857\n",
      "_______________________________________\n",
      "Total Number of Rows 10000\n",
      "10000 ,     median      mean   std_dev  min_time  max_time  quantile_10  quantile_90\n",
      "0  0.8842  0.926365  0.229563    0.6024    2.4789      0.72601      1.09361\n",
      "__________________Summary_______________________\n",
      "      median         mean  ...  quantile_90  No_of_Observation\n",
      "0  3336.0000  5655.910000  ...   3595.60000                  1\n",
      "0   229.9000   266.654000  ...    359.44000                 10\n",
      "0    32.4650    39.137100  ...     56.19500                100\n",
      "0     5.7565     5.745290  ...      6.88570               1000\n",
      "0     0.8842     0.926365  ...      1.09361              10000\n",
      "\n",
      "[5 rows x 8 columns]\n"
     ]
    },
    {
     "name": "stderr",
     "output_type": "stream",
     "text": [
      "INFO:root:Running benchmark for daal_logit...\n",
      "INFO:root:#, median, mean, std_dev, min_time, max_time, quantile_10, quantile_90\n"
     ]
    }
   ],
   "source": [
    "!python run.py -m=daal_logit -o=10000"
   ]
  },
  {
   "cell_type": "code",
   "execution_count": 21,
   "metadata": {},
   "outputs": [
    {
     "name": "stdout",
     "output_type": "stream",
     "text": [
      "Computing for Logistic Regression without Daal\n",
      "_______________________________________\n",
      "Total Number of Rows 1\n",
      "1 ,     median     mean     std_dev  min_time  max_time  quantile_10  quantile_90\n",
      "0  6377.0  6408.71  424.055145    5469.0    7312.0       5720.8       6914.4\n",
      "_______________________________________\n",
      "Total Number of Rows 10\n",
      "10 ,     median     mean    std_dev  min_time  max_time  quantile_10  quantile_90\n",
      "0  630.25  631.071  73.791152     514.0     873.0       549.18        714.6\n",
      "_______________________________________\n",
      "Total Number of Rows 100\n",
      "100 ,     median     mean   std_dev  min_time  max_time  quantile_10  quantile_90\n",
      "0  63.515  61.1827  7.999681     47.31     82.47        47.74       68.966\n",
      "_______________________________________\n",
      "Total Number of Rows 1000\n",
      "1000 ,     median     mean   std_dev  min_time  max_time  quantile_10  quantile_90\n",
      "0   7.663  7.57939  0.381716     6.383     8.301       7.1642         7.94\n",
      "_______________________________________\n",
      "Total Number of Rows 10000\n",
      "10000 ,      median      mean   std_dev  min_time  max_time  quantile_10  quantile_90\n",
      "0  0.96215  0.968762  0.145799    0.7717    1.4035      0.79376      1.16993\n",
      "__________________Summary_______________________\n",
      "       median         mean  ...  quantile_90  No_of_Observation\n",
      "0  6377.00000  6408.710000  ...   6914.40000                  1\n",
      "0   630.25000   631.071000  ...    714.60000                 10\n",
      "0    63.51500    61.182700  ...     68.96600                100\n",
      "0     7.66300     7.579390  ...      7.94000               1000\n",
      "0     0.96215     0.968762  ...      1.16993              10000\n",
      "\n",
      "[5 rows x 8 columns]\n"
     ]
    },
    {
     "name": "stderr",
     "output_type": "stream",
     "text": [
      "INFO:root:Running benchmark for logit...\n",
      "INFO:root:#, median, mean, std_dev, min_time, max_time, quantile_10, quantile_90\n"
     ]
    }
   ],
   "source": [
    "!python run.py -m=logit -o=10000"
   ]
  },
  {
   "cell_type": "code",
   "execution_count": null,
   "metadata": {},
   "outputs": [],
   "source": []
  }
 ],
 "metadata": {
  "kernelspec": {
   "display_name": "Python 3",
   "language": "python",
   "name": "python3"
  },
  "language_info": {
   "codemirror_mode": {
    "name": "ipython",
    "version": 3
   },
   "file_extension": ".py",
   "mimetype": "text/x-python",
   "name": "python",
   "nbconvert_exporter": "python",
   "pygments_lexer": "ipython3",
   "version": "3.6.8"
  }
 },
 "nbformat": 4,
 "nbformat_minor": 2
}
