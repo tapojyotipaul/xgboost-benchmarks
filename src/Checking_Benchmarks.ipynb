{
 "cells": [
  {
   "cell_type": "code",
   "execution_count": 6,
   "metadata": {},
   "outputs": [
    {
     "name": "stdout",
     "output_type": "stream",
     "text": [
      "1 ,     median      mean        std_dev  ...   max_time  quantile_10  quantile_90\n",
      "0   120.0  33175.39  327994.522914  ...  3296668.0        118.0        124.1\n",
      "\n",
      "[1 rows x 7 columns]\n",
      "10 ,     median    mean   std_dev  min_time  max_time  quantile_10  quantile_90\n",
      "0    13.8  14.365  4.046934      13.5      53.7         13.6         14.2\n",
      "100 ,     median   mean   std_dev  min_time  max_time  quantile_10  quantile_90\n",
      "0    2.14  2.195  0.349026      2.12      5.55         2.12         2.19\n",
      "1000 ,     median     mean   std_dev  min_time  max_time  quantile_10  quantile_90\n",
      "0   0.433  0.48411  0.338972     0.374     3.743        0.399       0.4943\n",
      "10000 ,      median      mean   std_dev  min_time  max_time  quantile_10  quantile_90\n",
      "0  0.20285  0.205061  0.013357    0.1974    0.3311      0.19958      0.21074\n",
      "__________________Summary_______________________\n",
      "      median          mean  ...  quantile_90  No_of_Observation\n",
      "0  120.00000  33175.390000  ...    124.10000                  1\n",
      "0   13.80000     14.365000  ...     14.20000                 10\n",
      "0    2.14000      2.195000  ...      2.19000                100\n",
      "0    0.43300      0.484110  ...      0.49430               1000\n",
      "0    0.20285      0.205061  ...      0.21074              10000\n",
      "\n",
      "[5 rows x 8 columns]\n"
     ]
    }
   ],
   "source": [
    "!python run.py -m=daal -o=10000"
   ]
  },
  {
   "cell_type": "code",
   "execution_count": 7,
   "metadata": {},
   "outputs": [
    {
     "name": "stdout",
     "output_type": "stream",
     "text": [
      "Computing for Linear Regression With Daal\n",
      "_______________________________________\n",
      "Total Number of Rows 1\n",
      "1 ,     median     mean    std_dev  min_time  max_time  quantile_10  quantile_90\n",
      "0  1707.5  1742.84  161.87444    1678.0    3167.0       1689.0       1790.4\n",
      "_______________________________________\n",
      "Total Number of Rows 10\n",
      "10 ,     median     mean    std_dev  min_time  max_time  quantile_10  quantile_90\n",
      "0  183.85  193.574  28.776069     178.3     398.2        179.8       214.37\n",
      "_______________________________________\n",
      "Total Number of Rows 100\n",
      "100 ,     median     mean   std_dev  min_time  max_time  quantile_10  quantile_90\n",
      "0  18.125  18.5423  1.006631     17.85     23.33        17.97       19.985\n",
      "_______________________________________\n",
      "Total Number of Rows 1000\n",
      "1000 ,     median     mean   std_dev  min_time  max_time  quantile_10  quantile_90\n",
      "0  2.2165  2.45269  0.445577     2.069     4.192        2.097       3.0696\n",
      "_______________________________________\n",
      "Total Number of Rows 10000\n",
      "10000 ,     median      mean   std_dev  min_time  max_time  quantile_10  quantile_90\n",
      "0  0.3266  0.350653  0.072728    0.2725     0.691      0.28927      0.45711\n",
      "__________________Summary_______________________\n",
      "      median         mean  ...  quantile_90  No_of_Observation\n",
      "0  1707.5000  1742.840000  ...   1790.40000                  1\n",
      "0   183.8500   193.574000  ...    214.37000                 10\n",
      "0    18.1250    18.542300  ...     19.98500                100\n",
      "0     2.2165     2.452690  ...      3.06960               1000\n",
      "0     0.3266     0.350653  ...      0.45711              10000\n",
      "\n",
      "[5 rows x 8 columns]\n"
     ]
    }
   ],
   "source": [
    "!python run.py -m=daal_lm -o=10000"
   ]
  },
  {
   "cell_type": "code",
   "execution_count": 8,
   "metadata": {},
   "outputs": [
    {
     "name": "stdout",
     "output_type": "stream",
     "text": [
      "Computing for Linear Regression without Daal\n",
      "_______________________________________\n",
      "Total Number of Rows 1\n",
      "1 ,      median      mean      std_dev  min_time  max_time  quantile_10  quantile_90\n",
      "0  14255.5  15194.82  1470.385884   13704.0   17721.0      13784.8      17013.0\n",
      "_______________________________________\n",
      "Total Number of Rows 10\n",
      "10 ,     median      mean     std_dev  min_time  max_time  quantile_10  quantile_90\n",
      "0  1379.4  1448.835  134.986211    1371.8    1918.7      1374.79      1701.31\n",
      "_______________________________________\n",
      "Total Number of Rows 100\n",
      "100 ,      median      mean    std_dev  min_time  max_time  quantile_10  quantile_90\n",
      "0  138.295  141.8155  18.120571    136.69    266.93      137.746      140.647\n",
      "_______________________________________\n",
      "Total Number of Rows 1000\n",
      "1000 ,     median      mean   std_dev  min_time  max_time  quantile_10  quantile_90\n",
      "0  15.533  15.83901  1.577389    14.002    18.913      14.0796      17.6271\n",
      "_______________________________________\n",
      "Total Number of Rows 10000\n",
      "10000 ,     median      mean  std_dev  min_time  max_time  quantile_10  quantile_90\n",
      "0  1.8167  1.793642  0.14193    1.4779    2.3104      1.53199      1.89418\n",
      "__________________Summary_______________________\n",
      "       median          mean  ...  quantile_90  No_of_Observation\n",
      "0  14255.5000  15194.820000  ...  17013.00000                  1\n",
      "0   1379.4000   1448.835000  ...   1701.31000                 10\n",
      "0    138.2950    141.815500  ...    140.64700                100\n",
      "0     15.5330     15.839010  ...     17.62710               1000\n",
      "0      1.8167      1.793642  ...      1.89418              10000\n",
      "\n",
      "[5 rows x 8 columns]\n"
     ]
    }
   ],
   "source": [
    "!python run.py -m=lm -o=10000"
   ]
  },
  {
   "cell_type": "code",
   "execution_count": 9,
   "metadata": {},
   "outputs": [
    {
     "name": "stdout",
     "output_type": "stream",
     "text": [
      "Computing for Random Forest\n",
      "_______________________________________\n",
      "Total Number of Rows 1\n",
      "1 ,     median     mean     std_dev  min_time  max_time  quantile_10  quantile_90\n",
      "0  1903.5  2605.36  2256.15911    1788.0   22167.0       1808.9       3392.2\n",
      "_______________________________________\n",
      "Total Number of Rows 10\n",
      "10 ,     median     mean     std_dev  min_time  max_time  quantile_10  quantile_90\n",
      "0  256.95  324.883  196.854874     235.4    1324.5       243.96       422.41\n",
      "_______________________________________\n",
      "Total Number of Rows 100\n",
      "100 ,     median     mean   std_dev  min_time  max_time  quantile_10  quantile_90\n",
      "0   47.33  59.6046  27.52623     42.37    192.25       43.519       82.804\n",
      "_______________________________________\n",
      "Total Number of Rows 1000\n",
      "1000 ,     median      mean   std_dev  min_time  max_time  quantile_10  quantile_90\n",
      "0  22.325  24.63281  5.043157    20.637    43.822      20.8745      33.2602\n",
      "_______________________________________\n",
      "Total Number of Rows 10000\n",
      "10000 ,      median       mean  std_dev  min_time  max_time  quantile_10  quantile_90\n",
      "0  20.4389  20.280426  1.01095   18.6661   23.2649     18.90521     21.53868\n",
      "__________________Summary_______________________\n",
      "      median         mean  ...  quantile_90  No_of_Observation\n",
      "0  1903.5000  2605.360000  ...   3392.20000                  1\n",
      "0   256.9500   324.883000  ...    422.41000                 10\n",
      "0    47.3300    59.604600  ...     82.80400                100\n",
      "0    22.3250    24.632810  ...     33.26020               1000\n",
      "0    20.4389    20.280426  ...     21.53868              10000\n",
      "\n",
      "[5 rows x 8 columns]\n"
     ]
    }
   ],
   "source": [
    "!python run.py -m=daal_rf -o=10000"
   ]
  },
  {
   "cell_type": "code",
   "execution_count": 10,
   "metadata": {},
   "outputs": [
    {
     "name": "stdout",
     "output_type": "stream",
     "text": [
      "Computing for Random Forest Regression without Daal\n",
      "_______________________________________\n",
      "Total Number of Rows 1\n",
      "1 ,      median      mean       std_dev  ...  max_time  quantile_10  quantile_90\n",
      "0  87325.5  88906.27  10342.815179  ...  182928.0      85689.1      90809.7\n",
      "\n",
      "[1 rows x 7 columns]\n",
      "_______________________________________\n",
      "Total Number of Rows 10\n",
      "10 ,     median       mean      std_dev  min_time  max_time  quantile_10  quantile_90\n",
      "0  9789.1  10077.192  1201.442626    8614.5   15316.2      8781.96     11331.41\n",
      "_______________________________________\n",
      "Total Number of Rows 100\n",
      "100 ,      median       mean     std_dev  min_time  max_time  quantile_10  quantile_90\n",
      "0  1052.59  1099.6993  118.455552     967.9   1539.53      996.024     1278.699\n",
      "_______________________________________\n",
      "Total Number of Rows 1000\n",
      "1000 ,       median      mean    std_dev  min_time  max_time  quantile_10  quantile_90\n",
      "0  197.7795  207.7065  26.287811   183.511   297.181     188.7164     250.6555\n",
      "_______________________________________\n",
      "Total Number of Rows 10000\n",
      "10000 ,      median       mean   std_dev  min_time  max_time  quantile_10  quantile_90\n",
      "0  96.6772  99.214923  6.552384   93.0039  125.1861     93.27202     108.2905\n",
      "__________________Summary_______________________\n",
      "       median          mean  ...  quantile_90  No_of_Observation\n",
      "0  87325.5000  88906.270000  ...   90809.7000                  1\n",
      "0   9789.1000  10077.192000  ...   11331.4100                 10\n",
      "0   1052.5900   1099.699300  ...    1278.6990                100\n",
      "0    197.7795    207.706500  ...     250.6555               1000\n",
      "0     96.6772     99.214923  ...     108.2905              10000\n",
      "\n",
      "[5 rows x 8 columns]\n"
     ]
    }
   ],
   "source": [
    "!python run.py -m=rf -o=10000"
   ]
  },
  {
   "cell_type": "code",
   "execution_count": 11,
   "metadata": {},
   "outputs": [
    {
     "name": "stdout",
     "output_type": "stream",
     "text": [
      "Computing for Logistic Regression With Daal\n",
      "_______________________________________\n",
      "Total Number of Rows 1\n",
      "1 ,     median     mean      std_dev  min_time  max_time  quantile_10  quantile_90\n",
      "0  1749.5  2505.72  3613.430024    1709.0   37477.0       1724.0       3060.8\n",
      "_______________________________________\n",
      "Total Number of Rows 10\n",
      "10 ,     median     mean     std_dev  min_time  max_time  quantile_10  quantile_90\n",
      "0  192.45  253.952  143.147885     186.4    1131.2        187.2       387.51\n",
      "_______________________________________\n",
      "Total Number of Rows 100\n",
      "100 ,     median     mean   std_dev  min_time  max_time  quantile_10  quantile_90\n",
      "0   23.77  24.2413  4.527403     19.21     44.56       19.386       29.606\n",
      "_______________________________________\n",
      "Total Number of Rows 1000\n",
      "1000 ,     median     mean   std_dev  min_time  max_time  quantile_10  quantile_90\n",
      "0   3.574  3.71781  0.459675     3.119     5.664       3.2902       4.1993\n",
      "_______________________________________\n",
      "Total Number of Rows 10000\n",
      "10000 ,     median      mean   std_dev  min_time  max_time  quantile_10  quantile_90\n",
      "0  0.6011  0.607855  0.050078    0.5348    0.8259      0.55891      0.66869\n",
      "__________________Summary_______________________\n",
      "      median         mean  ...  quantile_90  No_of_Observation\n",
      "0  1749.5000  2505.720000  ...   3060.80000                  1\n",
      "0   192.4500   253.952000  ...    387.51000                 10\n",
      "0    23.7700    24.241300  ...     29.60600                100\n",
      "0     3.5740     3.717810  ...      4.19930               1000\n",
      "0     0.6011     0.607855  ...      0.66869              10000\n",
      "\n",
      "[5 rows x 8 columns]\n"
     ]
    }
   ],
   "source": [
    "!python run.py -m=daal_logit -o=10000"
   ]
  },
  {
   "cell_type": "code",
   "execution_count": 12,
   "metadata": {},
   "outputs": [
    {
     "name": "stdout",
     "output_type": "stream",
     "text": [
      "Computing for Logistic Regression without Daal\n",
      "_______________________________________\n",
      "Total Number of Rows 1\n",
      "1 ,      median      mean      std_dev  min_time  max_time  quantile_10  quantile_90\n",
      "0  22474.5  22600.15  4717.259175   16445.0   35224.0      17538.5      30668.5\n",
      "_______________________________________\n",
      "Total Number of Rows 10\n",
      "10 ,      median      mean     std_dev  min_time  max_time  quantile_10  quantile_90\n",
      "0  1784.45  1844.661  144.993588    1668.8    2387.2      1713.67      2068.43\n",
      "_______________________________________\n",
      "Total Number of Rows 100\n",
      "100 ,     median      mean  std_dev  min_time  max_time  quantile_10  quantile_90\n",
      "0  175.57  178.0736  9.47113    164.24    235.34      170.728      187.116\n",
      "_______________________________________\n",
      "Total Number of Rows 1000\n",
      "1000 ,      median      mean  std_dev  min_time  max_time  quantile_10  quantile_90\n",
      "0  20.2125  20.05862  1.09803    17.352    22.944      18.6703      20.8591\n",
      "_______________________________________\n",
      "Total Number of Rows 10000\n",
      "10000 ,      median      mean   std_dev  min_time  max_time  quantile_10  quantile_90\n",
      "0  2.24145  2.166087  0.234144    1.6768    2.5967      1.81047      2.38246\n",
      "__________________Summary_______________________\n",
      "        median          mean  ...  quantile_90  No_of_Observation\n",
      "0  22474.50000  22600.150000  ...  30668.50000                  1\n",
      "0   1784.45000   1844.661000  ...   2068.43000                 10\n",
      "0    175.57000    178.073600  ...    187.11600                100\n",
      "0     20.21250     20.058620  ...     20.85910               1000\n",
      "0      2.24145      2.166087  ...      2.38246              10000\n",
      "\n",
      "[5 rows x 8 columns]\n"
     ]
    }
   ],
   "source": [
    "!python run.py -m=logit -o=10000"
   ]
  },
  {
   "cell_type": "code",
   "execution_count": 13,
   "metadata": {},
   "outputs": [
    {
     "name": "stdout",
     "output_type": "stream",
     "text": [
      "Computing for Linear Regression with Daal Patch\n",
      "_______________________________________\n",
      "Total Number of Rows 1\n",
      "1 ,      median      mean    std_dev  min_time  max_time  quantile_10  quantile_90\n",
      "0  16778.5  16961.35  540.77852   16548.0   19015.0      16640.5      17391.7\n",
      "_______________________________________\n",
      "Total Number of Rows 10\n",
      "10 ,      median     mean     std_dev  min_time  max_time  quantile_10  quantile_90\n",
      "0  1751.25  1977.12  563.586531    1636.4    5758.6       1691.8      2538.62\n",
      "_______________________________________\n",
      "Total Number of Rows 100\n",
      "100 ,     median      mean    std_dev  min_time  max_time  quantile_10  quantile_90\n",
      "0  179.23  201.8327  52.487617    167.78    382.71      168.992      283.742\n",
      "__________________Summary_______________________\n",
      "     median        mean  ...  quantile_90  No_of_Observation\n",
      "0  16778.50  16961.3500  ...    17391.700                  1\n",
      "0   1751.25   1977.1200  ...     2538.620                 10\n",
      "0    179.23    201.8327  ...      283.742                100\n",
      "\n",
      "[3 rows x 8 columns]\n"
     ]
    },
    {
     "name": "stderr",
     "output_type": "stream",
     "text": [
      "Intel(R) oneAPI Data Analytics Library solvers for sklearn enabled: https://intelpython.github.io/daal4py/sklearn.html\n"
     ]
    }
   ],
   "source": [
    "!python run.py -m=lm_patch -o=100"
   ]
  },
  {
   "cell_type": "code",
   "execution_count": 14,
   "metadata": {},
   "outputs": [
    {
     "name": "stdout",
     "output_type": "stream",
     "text": [
      "Computing for Linear Regression without Daal\n",
      "_______________________________________\n",
      "Total Number of Rows 1\n",
      "1 ,      median      mean      std_dev  min_time  max_time  quantile_10  quantile_90\n",
      "0  19571.5  18561.42  2368.154687   15305.0   31651.0      15814.9      19935.4\n",
      "_______________________________________\n",
      "Total Number of Rows 10\n",
      "10 ,      median      mean     std_dev  min_time  max_time  quantile_10  quantile_90\n",
      "0  1605.75  1639.484  157.098307    1543.0    2611.5      1553.59      1684.46\n",
      "_______________________________________\n",
      "Total Number of Rows 100\n",
      "100 ,      median      mean   std_dev  min_time  max_time  quantile_10  quantile_90\n",
      "0  160.445  160.9767  4.137013     155.2    192.73      158.194      162.101\n",
      "_______________________________________\n",
      "Total Number of Rows 1000\n",
      "1000 ,      median      mean   std_dev  min_time  max_time  quantile_10  quantile_90\n",
      "0  20.0015  19.33211  2.557305    16.174    29.435      16.3642       20.879\n",
      "_______________________________________\n",
      "Total Number of Rows 10000\n",
      "10000 ,      median      mean   std_dev  min_time  max_time  quantile_10  quantile_90\n",
      "0  1.74995  1.966183  0.495792    1.6486    3.5927      1.70355      2.33472\n",
      "__________________Summary_______________________\n",
      "        median          mean  ...  quantile_90  No_of_Observation\n",
      "0  19571.50000  18561.420000  ...  19935.40000                  1\n",
      "0   1605.75000   1639.484000  ...   1684.46000                 10\n",
      "0    160.44500    160.976700  ...    162.10100                100\n",
      "0     20.00150     19.332110  ...     20.87900               1000\n",
      "0      1.74995      1.966183  ...      2.33472              10000\n",
      "\n",
      "[5 rows x 8 columns]\n"
     ]
    }
   ],
   "source": [
    "!python run.py -m=lm -o=10000"
   ]
  },
  {
   "cell_type": "code",
   "execution_count": 15,
   "metadata": {},
   "outputs": [
    {
     "name": "stdout",
     "output_type": "stream",
     "text": [
      "Computing for Linear Regression with Daal Patch\n",
      "_______________________________________\n",
      "Total Number of Rows 1\n",
      "1 ,      median      mean      std_dev  min_time  max_time  quantile_10  quantile_90\n",
      "0  16005.0  16065.36  1830.362912   14507.0   33230.0      14665.6      16521.3\n",
      "_______________________________________\n",
      "Total Number of Rows 10\n",
      "10 ,      median    mean     std_dev  min_time  max_time  quantile_10  quantile_90\n",
      "0  1686.35  1819.0  388.454642    1619.5    4044.8      1635.09      2143.77\n",
      "_______________________________________\n",
      "Total Number of Rows 100\n",
      "100 ,     median      mean    std_dev  min_time  max_time  quantile_10  quantile_90\n",
      "0  185.94  209.0071  64.159337    162.59    499.02      167.898      301.409\n",
      "_______________________________________\n",
      "Total Number of Rows 1000\n",
      "1000 ,      median      mean   std_dev  min_time  max_time  quantile_10  quantile_90\n",
      "0  17.7295  18.33081  3.022238    17.004    44.482      17.2304      19.0697\n",
      "__________________Summary_______________________\n",
      "       median         mean  ...  quantile_90  No_of_Observation\n",
      "0  16005.0000  16065.36000  ...   16521.3000                  1\n",
      "0   1686.3500   1819.00000  ...    2143.7700                 10\n",
      "0    185.9400    209.00710  ...     301.4090                100\n",
      "0     17.7295     18.33081  ...      19.0697               1000\n",
      "\n",
      "[4 rows x 8 columns]\n"
     ]
    },
    {
     "name": "stderr",
     "output_type": "stream",
     "text": [
      "Intel(R) oneAPI Data Analytics Library solvers for sklearn enabled: https://intelpython.github.io/daal4py/sklearn.html\n"
     ]
    }
   ],
   "source": [
    "!python run.py -m=lm_patch -o=1000"
   ]
  },
  {
   "cell_type": "code",
   "execution_count": 16,
   "metadata": {},
   "outputs": [
    {
     "name": "stdout",
     "output_type": "stream",
     "text": [
      "Computing for Linear Regression With Daal\n",
      "_______________________________________\n",
      "Total Number of Rows 1\n",
      "1 ,     median     mean     std_dev  min_time  max_time  quantile_10  quantile_90\n",
      "0  2058.5  2105.96  209.228484    2025.0    3927.0       2029.9       2216.7\n",
      "_______________________________________\n",
      "Total Number of Rows 10\n",
      "10 ,     median     mean    std_dev  min_time  max_time  quantile_10  quantile_90\n",
      "0   225.5  264.362  120.09279     211.3    1144.0        218.3       324.46\n",
      "_______________________________________\n",
      "Total Number of Rows 100\n",
      "100 ,     median     mean   std_dev  min_time  max_time  quantile_10  quantile_90\n",
      "0    21.9  25.9986  8.469694     21.11     51.17       21.279       43.025\n",
      "_______________________________________\n",
      "Total Number of Rows 1000\n",
      "1000 ,     median     mean   std_dev  min_time  max_time  quantile_10  quantile_90\n",
      "0   2.483  2.64143  0.326193     2.399     3.706       2.4449       3.3057\n",
      "__________________Summary_______________________\n",
      "     median        mean  ...  quantile_90  No_of_Observation\n",
      "0  2058.500  2105.96000  ...    2216.7000                  1\n",
      "0   225.500   264.36200  ...     324.4600                 10\n",
      "0    21.900    25.99860  ...      43.0250                100\n",
      "0     2.483     2.64143  ...       3.3057               1000\n",
      "\n",
      "[4 rows x 8 columns]\n"
     ]
    }
   ],
   "source": [
    "!python run.py -m=daal_lm -o=1000"
   ]
  },
  {
   "cell_type": "code",
   "execution_count": null,
   "metadata": {},
   "outputs": [],
   "source": []
  }
 ],
 "metadata": {
  "kernelspec": {
   "display_name": "Python 3",
   "language": "python",
   "name": "python3"
  },
  "language_info": {
   "codemirror_mode": {
    "name": "ipython",
    "version": 3
   },
   "file_extension": ".py",
   "mimetype": "text/x-python",
   "name": "python",
   "nbconvert_exporter": "python",
   "pygments_lexer": "ipython3",
   "version": "3.6.8"
  }
 },
 "nbformat": 4,
 "nbformat_minor": 2
}
