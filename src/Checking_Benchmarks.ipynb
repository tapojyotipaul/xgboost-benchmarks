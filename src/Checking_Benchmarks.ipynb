{
 "cells": [
  {
   "cell_type": "code",
   "execution_count": 10,
   "metadata": {},
   "outputs": [
    {
     "name": "stdout",
     "output_type": "stream",
     "text": [
      "1 ,     median      mean        std_dev  ...   max_time  quantile_10  quantile_90\n",
      "0   437.0  35279.19  344585.613828  ...  3463808.0        432.0        472.2\n",
      "\n",
      "[1 rows x 7 columns]\n",
      "10 ,     median    mean   std_dev  min_time  max_time  quantile_10  quantile_90\n",
      "0   16.85  18.279  5.515656      16.0      63.1         16.1         18.8\n",
      "100 ,     median    mean   std_dev  min_time  max_time  quantile_10  quantile_90\n",
      "0    2.15  2.2133  0.401527      2.12       6.0         2.14         2.19\n",
      "1000 ,     median     mean   std_dev  min_time  max_time  quantile_10  quantile_90\n",
      "0  0.4335  0.50244  0.322488     0.326     3.512       0.3979       0.6621\n",
      "10000 ,      median      mean   std_dev  min_time  max_time  quantile_10  quantile_90\n",
      "0  0.18135  0.184094  0.011213    0.1767      0.28       0.1792       0.1894\n",
      "__________________Summary_______________________\n",
      "      median          mean  ...  quantile_90  No_of_Observation\n",
      "0  437.00000  35279.190000  ...     472.2000                  1\n",
      "0   16.85000     18.279000  ...      18.8000                 10\n",
      "0    2.15000      2.213300  ...       2.1900                100\n",
      "0    0.43350      0.502440  ...       0.6621               1000\n",
      "0    0.18135      0.184094  ...       0.1894              10000\n",
      "\n",
      "[5 rows x 8 columns]\n"
     ]
    }
   ],
   "source": [
    "!python run.py -m=daal -o=10000"
   ]
  },
  {
   "cell_type": "code",
   "execution_count": 12,
   "metadata": {},
   "outputs": [
    {
     "name": "stdout",
     "output_type": "stream",
     "text": [
      "1 ,     median     mean      std_dev  min_time  max_time  quantile_10  quantile_90\n",
      "0  2106.0  2155.39  1593.390083    1627.0   17814.0       1655.9       2296.8\n",
      "10 ,     median     mean    std_dev  min_time  max_time  quantile_10  quantile_90\n",
      "0   228.4  221.981  33.468017     164.1     414.2       178.87       249.28\n",
      "100 ,     median     mean   std_dev  min_time  max_time  quantile_10  quantile_90\n",
      "0  23.175  26.6025  4.749214     21.51     44.23       22.158       32.531\n",
      "1000 ,     median     mean  std_dev  min_time  max_time  quantile_10  quantile_90\n",
      "0   6.174  6.12462  0.49452     4.828     7.956       5.5709       6.5811\n",
      "10000 ,     median      mean   std_dev  min_time  max_time  quantile_10  quantile_90\n",
      "0  6.0717  6.061826  0.357994    5.2456     7.313      5.60477      6.48891\n"
     ]
    }
   ],
   "source": [
    "!python run.py -m=xgboost -o=10000"
   ]
  },
  {
   "cell_type": "code",
   "execution_count": 1,
   "metadata": {},
   "outputs": [
    {
     "name": "stdout",
     "output_type": "stream",
     "text": [
      "Computing for Linear Regression With Daal\n",
      "_______________________________________\n",
      "Total Number of Rows 1\n",
      "1 ,     median     mean      std_dev  min_time  max_time  quantile_10  quantile_90\n",
      "0  2007.5  3147.23  8123.225934    1943.0   81015.0       1962.0       2360.1\n",
      "_______________________________________\n",
      "Total Number of Rows 10\n",
      "10 ,     median     mean     std_dev  min_time  max_time  quantile_10  quantile_90\n",
      "0  211.05  244.804  171.421587     205.8    1886.1       207.57       266.67\n",
      "_______________________________________\n",
      "Total Number of Rows 100\n",
      "100 ,     median     mean   std_dev  min_time  max_time  quantile_10  quantile_90\n",
      "0  21.535  24.4516  6.089899     20.93     51.42       21.039       35.156\n",
      "_______________________________________\n",
      "Total Number of Rows 1000\n",
      "1000 ,     median     mean   std_dev  min_time  max_time  quantile_10  quantile_90\n",
      "0  4.2995  4.52784  2.106705     2.651    23.927       3.5274        5.364\n",
      "_______________________________________\n",
      "Total Number of Rows 10000\n",
      "10000 ,     median      mean   std_dev  min_time  max_time  quantile_10  quantile_90\n",
      "0  0.5238  0.521082  0.096145    0.3569    0.8115      0.39419      0.61484\n",
      "__________________Summary_______________________\n",
      "      median         mean  ...  quantile_90  No_of_Observation\n",
      "0  2007.5000  3147.230000  ...   2360.10000                  1\n",
      "0   211.0500   244.804000  ...    266.67000                 10\n",
      "0    21.5350    24.451600  ...     35.15600                100\n",
      "0     4.2995     4.527840  ...      5.36400               1000\n",
      "0     0.5238     0.521082  ...      0.61484              10000\n",
      "\n",
      "[5 rows x 8 columns]\n"
     ]
    }
   ],
   "source": [
    "!python run.py -m=daal_lm -o=10000"
   ]
  },
  {
   "cell_type": "code",
   "execution_count": 2,
   "metadata": {},
   "outputs": [
    {
     "name": "stdout",
     "output_type": "stream",
     "text": [
      "Computing for Linear Regression without Daal\n",
      "_______________________________________\n",
      "Total Number of Rows 1\n",
      "1 ,      median      mean     std_dev  min_time  max_time  quantile_10  quantile_90\n",
      "0  20547.5  21249.53  4153.22347   15664.0   35748.0      16687.5      26653.0\n",
      "_______________________________________\n",
      "Total Number of Rows 10\n",
      "10 ,     median      mean     std_dev  min_time  max_time  quantile_10  quantile_90\n",
      "0  1846.9  2013.742  390.609715    1644.9    3441.4      1705.24      2552.52\n",
      "_______________________________________\n",
      "Total Number of Rows 100\n",
      "100 ,      median     mean    std_dev  min_time  max_time  quantile_10  quantile_90\n",
      "0  167.165  180.086  37.521539    155.64    346.32      160.686      200.216\n",
      "_______________________________________\n",
      "Total Number of Rows 1000\n",
      "1000 ,     median      mean   std_dev  min_time  max_time  quantile_10  quantile_90\n",
      "0   19.16  21.39363  6.345134    15.817     46.37      16.1858      30.5281\n",
      "_______________________________________\n",
      "Total Number of Rows 10000\n",
      "10000 ,      median      mean   std_dev  min_time  max_time  quantile_10  quantile_90\n",
      "0  2.30645  2.304886  0.299888    1.8526    3.5173      1.88994      2.55207\n",
      "__________________Summary_______________________\n",
      "        median          mean  ...  quantile_90  No_of_Observation\n",
      "0  20547.50000  21249.530000  ...  26653.00000                  1\n",
      "0   1846.90000   2013.742000  ...   2552.52000                 10\n",
      "0    167.16500    180.086000  ...    200.21600                100\n",
      "0     19.16000     21.393630  ...     30.52810               1000\n",
      "0      2.30645      2.304886  ...      2.55207              10000\n",
      "\n",
      "[5 rows x 8 columns]\n"
     ]
    }
   ],
   "source": [
    "!python run.py -m=lm -o=10000"
   ]
  },
  {
   "cell_type": "code",
   "execution_count": 26,
   "metadata": {},
   "outputs": [
    {
     "name": "stdout",
     "output_type": "stream",
     "text": [
      "Computing for Random Forest\n",
      "_______________________________________\n",
      "Total Number of Rows 1\n",
      "1 ,     median     mean      std_dev  min_time  max_time  quantile_10  quantile_90\n",
      "0  1886.0  2194.89  2712.899076    1798.0   29128.0       1826.7       2019.2\n",
      "_______________________________________\n",
      "Total Number of Rows 10\n",
      "10 ,     median     mean     std_dev  min_time  max_time  quantile_10  quantile_90\n",
      "0  275.55  308.568  148.484429     229.8    1681.5       245.91       355.73\n",
      "_______________________________________\n",
      "Total Number of Rows 100\n",
      "100 ,     median     mean   std_dev  min_time  max_time  quantile_10  quantile_90\n",
      "0  50.955  51.8379  4.131596     44.98     63.82       47.187       58.194\n",
      "_______________________________________\n",
      "Total Number of Rows 1000\n",
      "1000 ,     median      mean   std_dev  min_time  max_time  quantile_10  quantile_90\n",
      "0  24.659  25.62746  3.247384    21.354    37.143      22.5551      30.3467\n",
      "_______________________________________\n",
      "Total Number of Rows 10000\n",
      "10000 ,      median      mean   std_dev  min_time  max_time  quantile_10  quantile_90\n",
      "0  24.6474  24.70362  2.373391   19.7507   29.9778     21.79415     28.37539\n",
      "__________________Summary_______________________\n",
      "      median        mean  ...  quantile_90  No_of_Observation\n",
      "0  1886.0000  2194.89000  ...   2019.20000                  1\n",
      "0   275.5500   308.56800  ...    355.73000                 10\n",
      "0    50.9550    51.83790  ...     58.19400                100\n",
      "0    24.6590    25.62746  ...     30.34670               1000\n",
      "0    24.6474    24.70362  ...     28.37539              10000\n",
      "\n",
      "[5 rows x 8 columns]\n"
     ]
    }
   ],
   "source": [
    "!python run.py -m=daal_rf -o=10000"
   ]
  },
  {
   "cell_type": "code",
   "execution_count": 25,
   "metadata": {},
   "outputs": [
    {
     "name": "stdout",
     "output_type": "stream",
     "text": [
      "Computing for Random Forest Regression without Daal\n",
      "_______________________________________\n",
      "Total Number of Rows 1\n",
      "1 ,       median       mean       std_dev  ...  max_time  quantile_10  quantile_90\n",
      "0  100160.5  128627.61  54306.176581  ...  329213.0      86371.5     191190.2\n",
      "\n",
      "[1 rows x 7 columns]\n",
      "_______________________________________\n",
      "Total Number of Rows 10\n",
      "10 ,     median       mean      std_dev  min_time  max_time  quantile_10  quantile_90\n",
      "0  9815.0  11422.797  3002.452164    8734.5   19685.4       9164.6     16313.99\n",
      "_______________________________________\n",
      "Total Number of Rows 100\n",
      "100 ,      median       mean    std_dev  min_time  max_time  quantile_10  quantile_90\n",
      "0  1000.45  1008.8776  24.572417    975.73   1134.05      988.621     1028.552\n",
      "_______________________________________\n",
      "Total Number of Rows 1000\n",
      "1000 ,      median       mean    std_dev  min_time  max_time  quantile_10  quantile_90\n",
      "0  189.474  192.49694  12.894293   179.511   269.691     183.2276     200.8085\n",
      "_______________________________________\n",
      "Total Number of Rows 10000\n",
      "10000 ,      median       mean   std_dev  min_time  max_time  quantile_10  quantile_90\n",
      "0  95.7716  97.194322  5.585563   92.6283  131.3995     93.35829    100.52594\n",
      "__________________Summary_______________________\n",
      "        median           mean  ...   quantile_90  No_of_Observation\n",
      "0  100160.5000  128627.610000  ...  191190.20000                  1\n",
      "0    9815.0000   11422.797000  ...   16313.99000                 10\n",
      "0    1000.4500    1008.877600  ...    1028.55200                100\n",
      "0     189.4740     192.496940  ...     200.80850               1000\n",
      "0      95.7716      97.194322  ...     100.52594              10000\n",
      "\n",
      "[5 rows x 8 columns]\n"
     ]
    }
   ],
   "source": [
    "!python run.py -m=rf -o=10000"
   ]
  },
  {
   "cell_type": "code",
   "execution_count": 27,
   "metadata": {},
   "outputs": [
    {
     "name": "stdout",
     "output_type": "stream",
     "text": [
      "Computing for Random Forest Regression without Daal\n",
      "_______________________________________\n",
      "Total Number of Rows 1\n",
      "1 ,      median      mean      std_dev  min_time  max_time  quantile_10  quantile_90\n",
      "0  16965.5  17445.32  1397.818843   16237.0   27066.0      16711.3      18883.9\n",
      "_______________________________________\n",
      "Total Number of Rows 10\n",
      "10 ,     median      mean     std_dev  min_time  max_time  quantile_10  quantile_90\n",
      "0  1757.2  1875.431  609.145754    1604.1    7386.6      1646.03       1969.3\n",
      "_______________________________________\n",
      "Total Number of Rows 100\n",
      "100 ,      median      mean    std_dev  min_time  max_time  quantile_10  quantile_90\n",
      "0  236.755  274.7666  77.914515    195.27    495.56      208.741      397.563\n",
      "_______________________________________\n",
      "Total Number of Rows 1000\n",
      "1000 ,      median     mean   std_dev  min_time  max_time  quantile_10  quantile_90\n",
      "0  53.6305  54.4393  5.381675     45.72     79.36      49.7624      61.1772\n",
      "_______________________________________\n",
      "Total Number of Rows 10000\n",
      "10000 ,      median       mean  std_dev  min_time  max_time  quantile_10  quantile_90\n",
      "0  40.9683  41.829308  4.93416   32.1269   60.1727      36.6108     49.59307\n",
      "__________________Summary_______________________\n",
      "       median          mean  ...  quantile_90  No_of_Observation\n",
      "0  16965.5000  17445.320000  ...  18883.90000                  1\n",
      "0   1757.2000   1875.431000  ...   1969.30000                 10\n",
      "0    236.7550    274.766600  ...    397.56300                100\n",
      "0     53.6305     54.439300  ...     61.17720               1000\n",
      "0     40.9683     41.829308  ...     49.59307              10000\n",
      "\n",
      "[5 rows x 8 columns]\n"
     ]
    },
    {
     "name": "stderr",
     "output_type": "stream",
     "text": [
      "Intel(R) oneAPI Data Analytics Library solvers for sklearn enabled: https://intelpython.github.io/daal4py/sklearn.html\n"
     ]
    }
   ],
   "source": [
    "!python run.py -m=rf_patch -o=10000"
   ]
  },
  {
   "cell_type": "code",
   "execution_count": 5,
   "metadata": {},
   "outputs": [
    {
     "name": "stdout",
     "output_type": "stream",
     "text": [
      "Computing for Logistic Regression With Daal\n",
      "_______________________________________\n",
      "Total Number of Rows 1\n",
      "1 ,     median     mean      std_dev  min_time  max_time  quantile_10  quantile_90\n",
      "0  1795.5  2309.12  4542.273029    1760.0   47458.0       1770.0       1957.2\n",
      "_______________________________________\n",
      "Total Number of Rows 10\n",
      "10 ,     median     mean    std_dev  min_time  max_time  quantile_10  quantile_90\n",
      "0  194.35  200.169  18.135036     190.4     294.8        191.8       211.49\n",
      "_______________________________________\n",
      "Total Number of Rows 100\n",
      "100 ,     median     mean   std_dev  min_time  max_time  quantile_10  quantile_90\n",
      "0    20.3  21.5145  3.378076     19.61     36.07        19.77       24.204\n",
      "_______________________________________\n",
      "Total Number of Rows 1000\n",
      "1000 ,     median     mean   std_dev  min_time  max_time  quantile_10  quantile_90\n",
      "0  2.5815  2.95759  0.764744     2.407     5.815        2.466       4.2292\n",
      "_______________________________________\n",
      "Total Number of Rows 10000\n",
      "10000 ,      median     mean   std_dev  min_time  max_time  quantile_10  quantile_90\n",
      "0  0.44925  0.46897  0.072943    0.4068    0.8725      0.42606      0.50752\n",
      "__________________Summary_______________________\n",
      "       median        mean  ...  quantile_90  No_of_Observation\n",
      "0  1795.50000  2309.12000  ...   1957.20000                  1\n",
      "0   194.35000   200.16900  ...    211.49000                 10\n",
      "0    20.30000    21.51450  ...     24.20400                100\n",
      "0     2.58150     2.95759  ...      4.22920               1000\n",
      "0     0.44925     0.46897  ...      0.50752              10000\n",
      "\n",
      "[5 rows x 8 columns]\n"
     ]
    }
   ],
   "source": [
    "!python run.py -m=daal_logit -o=10000"
   ]
  },
  {
   "cell_type": "code",
   "execution_count": 6,
   "metadata": {},
   "outputs": [
    {
     "name": "stdout",
     "output_type": "stream",
     "text": [
      "Computing for Logistic Regression without Daal\n",
      "_______________________________________\n",
      "Total Number of Rows 1\n",
      "1 ,      median      mean      std_dev  min_time  max_time  quantile_10  quantile_90\n",
      "0  18571.5  20896.77  5806.771183   14054.0   40604.0      15109.5      29644.6\n",
      "_______________________________________\n",
      "Total Number of Rows 10\n",
      "10 ,     median      mean     std_dev  min_time  max_time  quantile_10  quantile_90\n",
      "0  1578.7  1685.185  279.172277    1425.2    2772.2      1457.43      2110.89\n",
      "_______________________________________\n",
      "Total Number of Rows 100\n",
      "100 ,      median      mean    std_dev  min_time  max_time  quantile_10  quantile_90\n",
      "0  149.765  156.9554  23.234176     140.5    306.86      143.292      177.846\n",
      "_______________________________________\n",
      "Total Number of Rows 1000\n",
      "1000 ,     median      mean  std_dev  min_time  max_time  quantile_10  quantile_90\n",
      "0  18.434  19.40934  4.89395    14.491    53.958      15.5013      24.3939\n",
      "_______________________________________\n",
      "Total Number of Rows 10000\n",
      "10000 ,     median      mean   std_dev  min_time  max_time  quantile_10  quantile_90\n",
      "0  1.7717  1.913371  0.343082    1.6103    3.1275      1.61817      2.34706\n",
      "__________________Summary_______________________\n",
      "       median          mean  ...  quantile_90  No_of_Observation\n",
      "0  18571.5000  20896.770000  ...  29644.60000                  1\n",
      "0   1578.7000   1685.185000  ...   2110.89000                 10\n",
      "0    149.7650    156.955400  ...    177.84600                100\n",
      "0     18.4340     19.409340  ...     24.39390               1000\n",
      "0      1.7717      1.913371  ...      2.34706              10000\n",
      "\n",
      "[5 rows x 8 columns]\n"
     ]
    }
   ],
   "source": [
    "!python run.py -m=logit -o=10000"
   ]
  },
  {
   "cell_type": "code",
   "execution_count": 8,
   "metadata": {},
   "outputs": [
    {
     "name": "stdout",
     "output_type": "stream",
     "text": [
      "Computing for Linear Regression with Daal Patch\n",
      "_______________________________________\n",
      "Total Number of Rows 1\n",
      "1 ,      median      mean      std_dev  min_time  max_time  quantile_10  quantile_90\n",
      "0  16948.5  17719.15  3635.866343   14874.0   36267.0      15027.2      20338.3\n",
      "_______________________________________\n",
      "Total Number of Rows 10\n",
      "10 ,      median      mean     std_dev  min_time  max_time  quantile_10  quantile_90\n",
      "0  1697.45  1925.092  604.514241    1510.6    4131.2      1537.01      2602.33\n",
      "_______________________________________\n",
      "Total Number of Rows 100\n",
      "100 ,     median      mean   std_dev  min_time  max_time  quantile_10  quantile_90\n",
      "0  169.28  207.0426  79.17886    154.51    422.26       155.86      367.329\n",
      "_______________________________________\n",
      "Total Number of Rows 1000\n",
      "1000 ,      median      mean   std_dev  min_time  max_time  quantile_10  quantile_90\n",
      "0  18.3715  21.46848  7.401015    16.021    46.733      16.4049      35.9428\n",
      "__________________Summary_______________________\n",
      "       median         mean  ...  quantile_90  No_of_Observation\n",
      "0  16948.5000  17719.15000  ...   20338.3000                  1\n",
      "0   1697.4500   1925.09200  ...    2602.3300                 10\n",
      "0    169.2800    207.04260  ...     367.3290                100\n",
      "0     18.3715     21.46848  ...      35.9428               1000\n",
      "\n",
      "[4 rows x 8 columns]\n"
     ]
    },
    {
     "name": "stderr",
     "output_type": "stream",
     "text": [
      "Intel(R) oneAPI Data Analytics Library solvers for sklearn enabled: https://intelpython.github.io/daal4py/sklearn.html\n"
     ]
    }
   ],
   "source": [
    "!python run.py -m=lm_patch -o=1000"
   ]
  },
  {
   "cell_type": "code",
   "execution_count": 37,
   "metadata": {},
   "outputs": [
    {
     "name": "stdout",
     "output_type": "stream",
     "text": [
      "Computing for Linear Regression without Daal\n",
      "_______________________________________\n",
      "Total Number of Rows 1\n",
      "1 ,      median      mean      std_dev  min_time  max_time  quantile_10  quantile_90\n",
      "0  16971.5  17930.47  5393.721086   13708.0   59999.0      14324.1      19386.6\n",
      "_______________________________________\n",
      "Total Number of Rows 10\n",
      "10 ,     median      mean     std_dev  min_time  max_time  quantile_10  quantile_90\n",
      "0  1393.8  1495.848  651.882854    1377.2    7914.7      1381.57       1577.1\n",
      "_______________________________________\n",
      "Total Number of Rows 100\n",
      "100 ,      median     mean    std_dev  min_time  max_time  quantile_10  quantile_90\n",
      "0  149.215  162.746  34.665943    137.89    304.63      139.889      208.741\n",
      "_______________________________________\n",
      "Total Number of Rows 1000\n",
      "1000 ,     median      mean   std_dev  min_time  max_time  quantile_10  quantile_90\n",
      "0   17.28  16.51677  2.061406     13.97    22.963       14.045      18.4966\n",
      "_______________________________________\n",
      "Total Number of Rows 10000\n",
      "10000 ,     median      mean   std_dev  min_time  max_time  quantile_10  quantile_90\n",
      "0   1.854  1.925625  0.493915    1.4745    4.1199      1.49014      2.47518\n",
      "_______________________________________\n",
      "Total Number of Rows 100000\n",
      "100000 ,     median      mean   std_dev  min_time  max_time  quantile_10  quantile_90\n",
      "0  0.4604  0.461524  0.039588    0.3869   0.61596     0.414087     0.506268\n",
      "__________________Summary_______________________\n",
      "       median          mean  ...   quantile_90  No_of_Observation\n",
      "0  16971.5000  17930.470000  ...  19386.600000                  1\n",
      "0   1393.8000   1495.848000  ...   1577.100000                 10\n",
      "0    149.2150    162.746000  ...    208.741000                100\n",
      "0     17.2800     16.516770  ...     18.496600               1000\n",
      "0      1.8540      1.925625  ...      2.475180              10000\n",
      "0      0.4604      0.461524  ...      0.506268             100000\n",
      "\n",
      "[6 rows x 8 columns]\n"
     ]
    }
   ],
   "source": [
    "!python run.py -m=lm -o=100000"
   ]
  },
  {
   "cell_type": "code",
   "execution_count": 38,
   "metadata": {},
   "outputs": [
    {
     "name": "stdout",
     "output_type": "stream",
     "text": [
      "Computing for Linear Regression with Daal Patch\n",
      "_______________________________________\n",
      "Total Number of Rows 1\n",
      "1 ,      median      mean      std_dev  min_time  max_time  quantile_10  quantile_90\n",
      "0  15378.0  16165.52  2525.129741   14765.0   32837.0      14940.7      17908.8\n",
      "_______________________________________\n",
      "Total Number of Rows 10\n",
      "10 ,     median      mean     std_dev  min_time  max_time  quantile_10  quantile_90\n",
      "0  1572.3  1612.163  118.042509    1539.3    2447.1      1549.48      1710.79\n",
      "_______________________________________\n",
      "Total Number of Rows 100\n",
      "100 ,     median      mean   std_dev  min_time  max_time  quantile_10  quantile_90\n",
      "0  157.67  168.1639  47.54511    152.02    614.52      152.856      187.068\n",
      "_______________________________________\n",
      "Total Number of Rows 1000\n",
      "1000 ,      median      mean   std_dev  min_time  max_time  quantile_10  quantile_90\n",
      "0  16.4775  16.95283  1.741776    15.643    25.304      15.7628      18.0609\n",
      "_______________________________________\n",
      "Total Number of Rows 10000\n",
      "10000 ,      median      mean   std_dev  min_time  max_time  quantile_10  quantile_90\n",
      "0  2.00905  2.219974  0.586946    1.7889    6.1521      1.81571      2.78573\n",
      "_______________________________________\n",
      "Total Number of Rows 100000\n",
      "100000 ,      median      mean   std_dev  min_time  max_time  quantile_10  quantile_90\n",
      "0  0.43135  0.456109  0.057322   0.39464   0.67615      0.40291     0.534847\n",
      "__________________Summary_______________________\n",
      "        median          mean  ...   quantile_90  No_of_Observation\n",
      "0  15378.00000  16165.520000  ...  17908.800000                  1\n",
      "0   1572.30000   1612.163000  ...   1710.790000                 10\n",
      "0    157.67000    168.163900  ...    187.068000                100\n",
      "0     16.47750     16.952830  ...     18.060900               1000\n",
      "0      2.00905      2.219974  ...      2.785730              10000\n",
      "0      0.43135      0.456109  ...      0.534847             100000\n",
      "\n",
      "[6 rows x 8 columns]\n"
     ]
    },
    {
     "name": "stderr",
     "output_type": "stream",
     "text": [
      "Intel(R) oneAPI Data Analytics Library solvers for sklearn enabled: https://intelpython.github.io/daal4py/sklearn.html\n"
     ]
    }
   ],
   "source": [
    "!python run.py -m=lm_patch -o=100000"
   ]
  },
  {
   "cell_type": "code",
   "execution_count": 39,
   "metadata": {},
   "outputs": [
    {
     "name": "stdout",
     "output_type": "stream",
     "text": [
      "Computing for Linear Regression With Daal\n",
      "_______________________________________\n",
      "Total Number of Rows 1\n",
      "1 ,     median     mean      std_dev  min_time  max_time  quantile_10  quantile_90\n",
      "0  2215.0  3702.88  8554.031751    1702.0   87307.0       1732.7       4698.1\n",
      "_______________________________________\n",
      "Total Number of Rows 10\n",
      "10 ,     median     mean     std_dev  min_time  max_time  quantile_10  quantile_90\n",
      "0  196.55  263.964  146.375224     176.5    1190.8        178.7       396.17\n",
      "_______________________________________\n",
      "Total Number of Rows 100\n",
      "100 ,     median     mean   std_dev  min_time  max_time  quantile_10  quantile_90\n",
      "0   18.04  20.6678  5.482502     17.66     46.59         17.8       25.811\n",
      "_______________________________________\n",
      "Total Number of Rows 1000\n",
      "1000 ,     median     mean   std_dev  min_time  max_time  quantile_10  quantile_90\n",
      "0  2.9525  3.11833  0.530206     2.538      5.36        2.665       3.8572\n",
      "_______________________________________\n",
      "Total Number of Rows 10000\n",
      "10000 ,      median      mean  std_dev  min_time  max_time  quantile_10  quantile_90\n",
      "0  0.48225  0.539762  0.15099    0.3742    0.9346       0.3901      0.78445\n",
      "_______________________________________\n",
      "Total Number of Rows 100000\n",
      "100000 ,       median      mean   std_dev  min_time  max_time  quantile_10  quantile_90\n",
      "0  0.116375  0.124727  0.023188   0.09954   0.22677     0.104629     0.151851\n",
      "__________________Summary_______________________\n",
      "        median         mean  ...  quantile_90  No_of_Observation\n",
      "0  2215.000000  3702.880000  ...  4698.100000                  1\n",
      "0   196.550000   263.964000  ...   396.170000                 10\n",
      "0    18.040000    20.667800  ...    25.811000                100\n",
      "0     2.952500     3.118330  ...     3.857200               1000\n",
      "0     0.482250     0.539762  ...     0.784450              10000\n",
      "0     0.116375     0.124727  ...     0.151851             100000\n",
      "\n",
      "[6 rows x 8 columns]\n"
     ]
    }
   ],
   "source": [
    "!python run.py -m=daal_lm -o=100000"
   ]
  },
  {
   "cell_type": "code",
   "execution_count": 13,
   "metadata": {},
   "outputs": [
    {
     "name": "stdout",
     "output_type": "stream",
     "text": [
      "Computing for KMeans Clustering without Daal\n",
      "_______________________________________\n",
      "Total Number of Rows 1\n",
      "1 ,      median      mean      std_dev  min_time  max_time  quantile_10  quantile_90\n",
      "0  18044.5  20078.67  7851.931643   15903.0   85715.0      16078.5      25433.0\n",
      "_______________________________________\n",
      "Total Number of Rows 10\n",
      "10 ,     median      mean     std_dev  min_time  max_time  quantile_10  quantile_90\n",
      "0  1708.5  1804.443  300.226437    1601.9    3584.6      1629.12      2070.56\n",
      "_______________________________________\n",
      "Total Number of Rows 100\n",
      "100 ,     median      mean    std_dev  min_time  max_time  quantile_10  quantile_90\n",
      "0  216.71  256.9009  98.243245    171.08    757.29      179.691       382.34\n",
      "_______________________________________\n",
      "Total Number of Rows 1000\n",
      "1000 ,      median      mean    std_dev  min_time  max_time  quantile_10  quantile_90\n",
      "0  44.7265  44.41849  10.962007    20.223    77.345      30.1726       57.808\n",
      "_______________________________________\n",
      "Total Number of Rows 10000\n",
      "10000 ,      median     mean   std_dev  min_time  max_time  quantile_10  quantile_90\n",
      "0  8.15525  8.40432  1.638563    6.2048   17.1658      6.89836      9.98359\n",
      "__________________Summary_______________________\n",
      "        median         mean  ...  quantile_90  No_of_Observation\n",
      "0  18044.50000  20078.67000  ...  25433.00000                  1\n",
      "0   1708.50000   1804.44300  ...   2070.56000                 10\n",
      "0    216.71000    256.90090  ...    382.34000                100\n",
      "0     44.72650     44.41849  ...     57.80800               1000\n",
      "0      8.15525      8.40432  ...      9.98359              10000\n",
      "\n",
      "[5 rows x 8 columns]\n"
     ]
    }
   ],
   "source": [
    "!python run.py -m=kmeans -o=10000"
   ]
  },
  {
   "cell_type": "code",
   "execution_count": 6,
   "metadata": {},
   "outputs": [
    {
     "name": "stdout",
     "output_type": "stream",
     "text": [
      "Computing for KMeans Clustering with Daal patch\n",
      "_______________________________________\n",
      "Total Number of Rows 1\n",
      "1 ,      median      mean      std_dev  min_time  max_time  quantile_10  quantile_90\n",
      "0  17452.5  17806.02  1189.636827   17282.0   27113.0      17355.9      18540.9\n",
      "_______________________________________\n",
      "Total Number of Rows 10\n",
      "10 ,      median      mean     std_dev  min_time  max_time  quantile_10  quantile_90\n",
      "0  1806.65  1989.445  571.626518    1769.3    6571.0      1777.93      2162.01\n",
      "_______________________________________\n",
      "Total Number of Rows 100\n",
      "100 ,     median      mean   std_dev  min_time  max_time  quantile_10  quantile_90\n",
      "0  180.81  182.6386  9.382027     177.0    268.24      177.776      185.834\n",
      "_______________________________________\n",
      "Total Number of Rows 1000\n",
      "1000 ,      median      mean  std_dev  min_time  max_time  quantile_10  quantile_90\n",
      "0  19.3895  21.98874  4.80382    18.753    33.407      18.9244      32.4942\n",
      "_______________________________________\n",
      "Total Number of Rows 10000\n",
      "10000 ,      median      mean  std_dev  min_time  max_time  quantile_10  quantile_90\n",
      "0  4.21965  3.910554  1.09756    2.2116    6.0386      2.32979      5.31606\n",
      "__________________Summary_______________________\n",
      "        median          mean  ...  quantile_90  No_of_Observation\n",
      "0  17452.50000  17806.020000  ...  18540.90000                  1\n",
      "0   1806.65000   1989.445000  ...   2162.01000                 10\n",
      "0    180.81000    182.638600  ...    185.83400                100\n",
      "0     19.38950     21.988740  ...     32.49420               1000\n",
      "0      4.21965      3.910554  ...      5.31606              10000\n",
      "\n",
      "[5 rows x 8 columns]\n"
     ]
    },
    {
     "name": "stderr",
     "output_type": "stream",
     "text": [
      "Intel(R) oneAPI Data Analytics Library solvers for sklearn enabled: https://intelpython.github.io/daal4py/sklearn.html\n"
     ]
    }
   ],
   "source": [
    "!python run.py -m=kmeans_patch -o=10000"
   ]
  },
  {
   "cell_type": "code",
   "execution_count": 28,
   "metadata": {},
   "outputs": [
    {
     "name": "stdout",
     "output_type": "stream",
     "text": [
      "Computing for Kmeans with Daal\n",
      "_______________________________________\n",
      "Total Number of Rows 1\n",
      "1 ,     median  mean   std_dev  min_time  max_time  quantile_10  quantile_90\n",
      "0     1.0  0.66  0.514198       0.0       2.0          0.0          1.0\n",
      "_______________________________________\n",
      "Total Number of Rows 10\n",
      "10 ,     median   mean  std_dev  min_time  max_time  quantile_10  quantile_90\n",
      "0     0.1  0.053  0.04991       0.0       0.1          0.0          0.1\n",
      "_______________________________________\n",
      "Total Number of Rows 100\n",
      "100 ,     median    mean  std_dev  min_time  max_time  quantile_10  quantile_90\n",
      "0     0.0  0.0035  0.00477       0.0      0.01          0.0         0.01\n",
      "_______________________________________\n",
      "Total Number of Rows 1000\n",
      "1000 ,     median     mean   std_dev  min_time  max_time  quantile_10  quantile_90\n",
      "0   0.001  0.00056  0.000496       0.0     0.001          0.0        0.001\n",
      "_______________________________________\n",
      "Total Number of Rows 10000\n",
      "10000 ,     median      mean   std_dev  min_time  max_time  quantile_10  quantile_90\n",
      "0     0.0  0.000049  0.000052       0.0    0.0002          0.0       0.0001\n",
      "__________________Summary_______________________\n",
      "   median      mean   std_dev  ...  quantile_10  quantile_90  No_of_Observation\n",
      "0   1.000  0.660000  0.514198  ...          0.0       1.0000                  1\n",
      "0   0.100  0.053000  0.049910  ...          0.0       0.1000                 10\n",
      "0   0.000  0.003500  0.004770  ...          0.0       0.0100                100\n",
      "0   0.001  0.000560  0.000496  ...          0.0       0.0010               1000\n",
      "0   0.000  0.000049  0.000052  ...          0.0       0.0001              10000\n",
      "\n",
      "[5 rows x 8 columns]\n"
     ]
    }
   ],
   "source": [
    "!python run.py -m=daal_kmeans -o=10000"
   ]
  },
  {
   "cell_type": "code",
   "execution_count": 15,
   "metadata": {},
   "outputs": [
    {
     "name": "stdout",
     "output_type": "stream",
     "text": [
      "_______________________________________\n",
      "Total Number of Rows 1\n",
      "1 ,      median      mean     std_dev  min_time  max_time  quantile_10  quantile_90\n",
      "0  17080.5  19165.67  9333.12973   16354.0  108677.0      16424.6      23121.0\n",
      "_______________________________________\n",
      "Total Number of Rows 10\n",
      "10 ,      median      mean      std_dev  min_time  max_time  quantile_10  quantile_90\n",
      "0  1786.45  2164.802  1793.574342    1682.5   18982.8      1711.06      2680.51\n",
      "_______________________________________\n",
      "Total Number of Rows 100\n",
      "100 ,     median      mean  std_dev  min_time  max_time  quantile_10  quantile_90\n",
      "0  246.09  266.0468  98.6644    175.14   1058.89      197.285      332.327\n",
      "_______________________________________\n",
      "Total Number of Rows 1000\n",
      "1000 ,     median      mean   std_dev  min_time  max_time  quantile_10  quantile_90\n",
      "0  27.513  29.43008  8.358087    19.851    92.711      22.9653      37.3711\n",
      "_______________________________________\n",
      "Total Number of Rows 10000\n",
      "10000 ,      median      mean   std_dev  min_time  max_time  quantile_10  quantile_90\n",
      "0  4.72095  5.020191  1.222945    3.6105   13.8405      4.07618      6.10303\n",
      "__________________Summary_______________________\n",
      "        median          mean  ...  quantile_90  No_of_Observation\n",
      "0  17080.50000  19165.670000  ...  23121.00000                  1\n",
      "0   1786.45000   2164.802000  ...   2680.51000                 10\n",
      "0    246.09000    266.046800  ...    332.32700                100\n",
      "0     27.51300     29.430080  ...     37.37110               1000\n",
      "0      4.72095      5.020191  ...      6.10303              10000\n",
      "\n",
      "[5 rows x 8 columns]\n"
     ]
    }
   ],
   "source": [
    "!python run.py -m=lm_training -o=10000"
   ]
  },
  {
   "cell_type": "code",
   "execution_count": 12,
   "metadata": {},
   "outputs": [
    {
     "name": "stdout",
     "output_type": "stream",
     "text": [
      "Computing for Linear Regression without Daal\n",
      "_______________________________________\n",
      "Total Number of Rows 1\n",
      "1 ,      median      mean      std_dev  min_time  max_time  quantile_10  quantile_90\n",
      "0  16830.0  17007.25  1364.565032   13594.0   23307.0      16145.4      18186.1\n",
      "_______________________________________\n",
      "Total Number of Rows 10\n",
      "10 ,      median      mean    std_dev  min_time  max_time  quantile_10  quantile_90\n",
      "0  1376.65  1403.319  91.171256    1363.3    2104.1      1366.65      1439.92\n",
      "_______________________________________\n",
      "Total Number of Rows 100\n",
      "100 ,     median      mean   std_dev  min_time  max_time  quantile_10  quantile_90\n",
      "0  137.29  138.1217  2.976514    136.51    152.76      136.717       139.09\n",
      "_______________________________________\n",
      "Total Number of Rows 1000\n",
      "1000 ,      median     mean   std_dev  min_time  max_time  quantile_10  quantile_90\n",
      "0  14.0175  15.8071  3.184099    13.831    27.988      13.8704      18.6845\n",
      "_______________________________________\n",
      "Total Number of Rows 10000\n",
      "10000 ,      median     mean   std_dev  min_time  max_time  quantile_10  quantile_90\n",
      "0  1.47855  1.56016  0.159411    1.4525    2.3307      1.45888      1.80994\n",
      "__________________Summary_______________________\n",
      "        median         mean  ...  quantile_90  No_of_Observation\n",
      "0  16830.00000  17007.25000  ...  18186.10000                  1\n",
      "0   1376.65000   1403.31900  ...   1439.92000                 10\n",
      "0    137.29000    138.12170  ...    139.09000                100\n",
      "0     14.01750     15.80710  ...     18.68450               1000\n",
      "0      1.47855      1.56016  ...      1.80994              10000\n",
      "\n",
      "[5 rows x 8 columns]\n"
     ]
    }
   ],
   "source": [
    "!python run.py -m=lm -o=10000"
   ]
  },
  {
   "cell_type": "code",
   "execution_count": 13,
   "metadata": {},
   "outputs": [
    {
     "name": "stdout",
     "output_type": "stream",
     "text": [
      "Computing for Linear Regression with Daal Patch\n",
      "_______________________________________\n",
      "Total Number of Rows 1\n",
      "1 ,      median      mean        std_dev  ...   max_time  quantile_10  quantile_90\n",
      "0  18712.0  48692.66  288769.167516  ...  2921873.0      18516.9      21696.4\n",
      "\n",
      "[1 rows x 7 columns]\n",
      "_______________________________________\n",
      "Total Number of Rows 10\n",
      "10 ,     median     mean    std_dev  min_time  max_time  quantile_10  quantile_90\n",
      "0  2213.3  2209.23  66.713598    2023.1    2534.8      2135.98      2258.42\n",
      "_______________________________________\n",
      "Total Number of Rows 100\n",
      "100 ,     median      mean     std_dev  min_time  max_time  quantile_10  quantile_90\n",
      "0  276.72  306.2419  272.980393    236.86   3020.41      272.415      289.998\n",
      "_______________________________________\n",
      "Total Number of Rows 1000\n",
      "1000 ,     median      mean   std_dev  min_time  max_time  quantile_10  quantile_90\n",
      "0  19.073  22.29777  5.579666    17.777    35.976      18.6954      33.1883\n",
      "_______________________________________\n",
      "Total Number of Rows 10000\n",
      "10000 ,      median      mean   std_dev  min_time  max_time  quantile_10  quantile_90\n",
      "0  2.04035  2.081256  0.106655    1.9831    2.7097      2.01218      2.17636\n",
      "__________________Summary_______________________\n",
      "        median          mean  ...  quantile_90  No_of_Observation\n",
      "0  18712.00000  48692.660000  ...  21696.40000                  1\n",
      "0   2213.30000   2209.230000  ...   2258.42000                 10\n",
      "0    276.72000    306.241900  ...    289.99800                100\n",
      "0     19.07300     22.297770  ...     33.18830               1000\n",
      "0      2.04035      2.081256  ...      2.17636              10000\n",
      "\n",
      "[5 rows x 8 columns]\n"
     ]
    },
    {
     "name": "stderr",
     "output_type": "stream",
     "text": [
      "Intel(R) oneAPI Data Analytics Library solvers for sklearn enabled: https://intelpython.github.io/daal4py/sklearn.html\n"
     ]
    }
   ],
   "source": [
    "!python run.py -m=lm_patch_training -o=10000"
   ]
  },
  {
   "cell_type": "code",
   "execution_count": 14,
   "metadata": {},
   "outputs": [
    {
     "name": "stdout",
     "output_type": "stream",
     "text": [
      "_______________________________________\n",
      "Total Number of Rows 1000\n",
      "1000 ,     median      mean     std_dev  min_time  max_time  quantile_10  quantile_90\n",
      "0  3.9725  32.38357  281.138577     3.905  2829.675       3.9269       4.5283\n",
      "_______________________________________\n",
      "Total Number of Rows 10000\n",
      "10000 ,      median     mean   std_dev  min_time  max_time  quantile_10  quantile_90\n",
      "0  0.56245  0.57068  0.028937    0.5396    0.7872      0.55156      0.59492\n",
      "_______________________________________\n",
      "Total Number of Rows 100000\n",
      "100000 ,      median      mean   std_dev  min_time  max_time  quantile_10  quantile_90\n",
      "0  0.15105  0.155165  0.012638   0.14344   0.23043     0.147154     0.166518\n",
      "__________________Summary_______________________\n",
      "    median       mean     std_dev  ...  quantile_10  quantile_90  No_of_Observation\n",
      "0  3.97250  32.383570  281.138577  ...     3.926900     4.528300               1000\n",
      "0  0.56245   0.570680    0.028937  ...     0.551560     0.594920              10000\n",
      "0  0.15105   0.155165    0.012638  ...     0.147154     0.166518             100000\n",
      "\n",
      "[3 rows x 8 columns]\n"
     ]
    }
   ],
   "source": [
    "!python run.py -m=daal_lm_training -o=100000"
   ]
  },
  {
   "cell_type": "code",
   "execution_count": 23,
   "metadata": {},
   "outputs": [
    {
     "name": "stdout",
     "output_type": "stream",
     "text": [
      "Computing for Linear Regression With Daal\n",
      "_______________________________________\n",
      "Total Number of Rows 1\n",
      "1 ,     median     mean      std_dev  min_time  max_time  quantile_10  quantile_90\n",
      "0  1712.0  2646.48  6855.173176    1663.0   70346.0       1683.9       2284.7\n",
      "_______________________________________\n",
      "Total Number of Rows 10\n",
      "10 ,     median     mean    std_dev  min_time  max_time  quantile_10  quantile_90\n",
      "0  179.35  193.506  78.620174     176.6     922.8        177.5       188.53\n",
      "_______________________________________\n",
      "Total Number of Rows 100\n",
      "100 ,     median     mean   std_dev  min_time  max_time  quantile_10  quantile_90\n",
      "0   18.09  19.2662  5.336546     17.79     65.69       17.909       21.192\n",
      "_______________________________________\n",
      "Total Number of Rows 1000\n",
      "1000 ,     median     mean   std_dev  min_time  max_time  quantile_10  quantile_90\n",
      "0   2.107  2.22507  0.284931     2.028     3.485       2.0579        2.739\n",
      "_______________________________________\n",
      "Total Number of Rows 10000\n",
      "10000 ,     median      mean   std_dev  min_time  max_time  quantile_10  quantile_90\n",
      "0  0.3199  0.352938  0.103616    0.2824    0.8996      0.29288      0.40936\n",
      "_______________________________________\n",
      "Total Number of Rows 100000\n",
      "100000 ,      median      mean  std_dev  min_time  max_time  quantile_10  quantile_90\n",
      "0  0.11155  0.124758   0.0387   0.09251   0.31613     0.097124     0.166606\n",
      "__________________Summary_______________________\n",
      "       median         mean  ...  quantile_90  No_of_Observation\n",
      "0  1712.00000  2646.480000  ...  2284.700000                  1\n",
      "0   179.35000   193.506000  ...   188.530000                 10\n",
      "0    18.09000    19.266200  ...    21.192000                100\n",
      "0     2.10700     2.225070  ...     2.739000               1000\n",
      "0     0.31990     0.352938  ...     0.409360              10000\n",
      "0     0.11155     0.124758  ...     0.166606             100000\n",
      "\n",
      "[6 rows x 8 columns]\n"
     ]
    }
   ],
   "source": [
    "!python run.py -m=daal_lm -o=100000"
   ]
  },
  {
   "cell_type": "code",
   "execution_count": 31,
   "metadata": {},
   "outputs": [
    {
     "name": "stdout",
     "output_type": "stream",
     "text": [
      "Computing for DBSCAN Clustering training without Daal\n",
      "_______________________________________\n",
      "Total Number of Rows 1\n",
      "1 ,      median      mean      std_dev  min_time  max_time  quantile_10  quantile_90\n",
      "0  21013.0  21993.75  4618.471176   16891.0   35225.0      17269.5      31696.0\n",
      "_______________________________________\n",
      "Total Number of Rows 10\n",
      "10 ,      median      mean     std_dev  min_time  max_time  quantile_10  quantile_90\n",
      "0  1757.15  1828.039  364.491493    1728.9    5216.0      1745.47      1881.77\n",
      "_______________________________________\n",
      "Total Number of Rows 100\n",
      "100 ,      median      mean    std_dev  min_time  max_time  quantile_10  quantile_90\n",
      "0  227.575  249.7086  67.647606    197.99    597.93      200.584       323.29\n",
      "_______________________________________\n",
      "Total Number of Rows 1000\n",
      "1000 ,       median       mean    std_dev  min_time  max_time  quantile_10  quantile_90\n",
      "0  215.4965  239.23656  71.357104   171.653   579.858     191.5841     304.9568\n",
      "_______________________________________\n",
      "Total Number of Rows 10000\n",
      "10000 ,       median         mean     std_dev  ...   max_time  quantile_10  quantile_90\n",
      "0  1930.702  1979.038466  286.572738  ...  4168.6958   1784.35375   2240.72907\n",
      "\n",
      "[1 rows x 7 columns]\n",
      "__________________Summary_______________________\n",
      "       median          mean  ...  quantile_90  No_of_Observation\n",
      "0  21013.0000  21993.750000  ...  31696.00000                  1\n",
      "0   1757.1500   1828.039000  ...   1881.77000                 10\n",
      "0    227.5750    249.708600  ...    323.29000                100\n",
      "0    215.4965    239.236560  ...    304.95680               1000\n",
      "0   1930.7020   1979.038466  ...   2240.72907              10000\n",
      "\n",
      "[5 rows x 8 columns]\n"
     ]
    }
   ],
   "source": [
    "!python run.py -m=dbs -o=10000"
   ]
  },
  {
   "cell_type": "code",
   "execution_count": 32,
   "metadata": {},
   "outputs": [
    {
     "name": "stdout",
     "output_type": "stream",
     "text": [
      "Computing for DBSCAN Clustering training with Daal Patch\n",
      "_______________________________________\n",
      "Total Number of Rows 1\n",
      "1 ,      median      mean      std_dev  min_time  max_time  quantile_10  quantile_90\n",
      "0  16085.0  17991.45  4055.857392   15218.0   31789.0      15407.8      25569.9\n",
      "_______________________________________\n",
      "Total Number of Rows 10\n",
      "10 ,     median      mean      std_dev  min_time  max_time  quantile_10  quantile_90\n",
      "0  2694.4  2894.011  1033.780121    1603.8    5740.7      1726.44      4272.32\n",
      "_______________________________________\n",
      "Total Number of Rows 100\n",
      "100 ,     median      mean    std_dev  min_time  max_time  quantile_10  quantile_90\n",
      "0  200.57  218.7881  61.823338    163.09    500.55      167.018      298.117\n",
      "_______________________________________\n",
      "Total Number of Rows 1000\n",
      "1000 ,      median      mean    std_dev  min_time  max_time  quantile_10  quantile_90\n",
      "0  34.5315  37.55789  10.096814    23.524    68.587      27.7412      52.5887\n",
      "__________________Summary_______________________\n",
      "       median         mean  ...  quantile_90  No_of_Observation\n",
      "0  16085.0000  17991.45000  ...   25569.9000                  1\n",
      "0   2694.4000   2894.01100  ...    4272.3200                 10\n",
      "0    200.5700    218.78810  ...     298.1170                100\n",
      "0     34.5315     37.55789  ...      52.5887               1000\n",
      "\n",
      "[4 rows x 8 columns]\n"
     ]
    },
    {
     "name": "stderr",
     "output_type": "stream",
     "text": [
      "Intel(R) oneAPI Data Analytics Library solvers for sklearn enabled: https://intelpython.github.io/daal4py/sklearn.html\n"
     ]
    }
   ],
   "source": [
    "!python run.py -m=dbs_patch -o=1000"
   ]
  },
  {
   "cell_type": "code",
   "execution_count": 40,
   "metadata": {},
   "outputs": [
    {
     "name": "stdout",
     "output_type": "stream",
     "text": [
      "_______________________________________\n",
      "Total Number of Rows 1000\n",
      "1000 ,       median       mean     std_dev  ...  max_time  quantile_10  quantile_90\n",
      "0  134.2035  169.16764  368.512404  ...  3831.036     107.6509     156.5974\n",
      "\n",
      "[1 rows x 7 columns]\n",
      "_______________________________________\n",
      "Total Number of Rows 10000\n",
      "10000 ,       median       mean    std_dev  min_time  max_time  quantile_10  quantile_90\n",
      "0  79.02775  82.076216  14.168985   65.5759  136.5772     69.07388     93.92018\n",
      "__________________Summary_______________________\n",
      "      median        mean  ...  quantile_90  No_of_Observation\n",
      "0  134.20350  169.167640  ...    156.59740               1000\n",
      "0   79.02775   82.076216  ...     93.92018              10000\n",
      "\n",
      "[2 rows x 8 columns]\n"
     ]
    }
   ],
   "source": [
    "!python run.py -m=daal_rf_training -o=10000"
   ]
  },
  {
   "cell_type": "code",
   "execution_count": 35,
   "metadata": {},
   "outputs": [
    {
     "name": "stdout",
     "output_type": "stream",
     "text": [
      "_______________________________________\n",
      "Total Number of Rows 1\n",
      "1 ,        median        mean        std_dev  ...   max_time  quantile_10  quantile_90\n",
      "0  1034464.0  1059444.04  108227.030201  ...  1477746.0     947995.7    1203243.3\n",
      "\n",
      "[1 rows x 7 columns]\n",
      "_______________________________________\n",
      "Total Number of Rows 10\n",
      "10 ,        median        mean       std_dev  ...  max_time  quantile_10  quantile_90\n",
      "0  102363.65  105201.398  10039.387515  ...  167471.4     97612.76    114704.73\n",
      "\n",
      "[1 rows x 7 columns]\n",
      "_______________________________________\n",
      "Total Number of Rows 100\n",
      "100 ,       median        mean    std_dev  ...  max_time  quantile_10  quantile_90\n",
      "0  12721.49  13103.7551  876.68416  ...  15605.12    12230.664    14250.094\n",
      "\n",
      "[1 rows x 7 columns]\n",
      "_______________________________________\n",
      "Total Number of Rows 1000\n",
      "1000 ,       median        mean     std_dev  ...  max_time  quantile_10  quantile_90\n",
      "0  4627.815  4692.69607  274.296411  ...  7075.797    4570.0299    4818.0654\n",
      "\n",
      "[1 rows x 7 columns]\n",
      "__________________Summary_______________________\n",
      "        median          mean  ...   quantile_90  No_of_Observation\n",
      "0  1034464.000  1.059444e+06  ...  1.203243e+06                  1\n",
      "0   102363.650  1.052014e+05  ...  1.147047e+05                 10\n",
      "0    12721.490  1.310376e+04  ...  1.425009e+04                100\n",
      "0     4627.815  4.692696e+03  ...  4.818065e+03               1000\n",
      "\n",
      "[4 rows x 8 columns]\n"
     ]
    }
   ],
   "source": [
    "!python run.py -m=rf_training -o=1000"
   ]
  },
  {
   "cell_type": "code",
   "execution_count": 36,
   "metadata": {},
   "outputs": [
    {
     "name": "stdout",
     "output_type": "stream",
     "text": [
      "_______________________________________\n",
      "Total Number of Rows 1\n",
      "1 ,       median       mean        std_dev  ...   max_time  quantile_10  quantile_90\n",
      "0  227928.0  277372.21  353081.189005  ...  3750066.0     201856.2     292373.7\n",
      "\n",
      "[1 rows x 7 columns]\n",
      "_______________________________________\n",
      "Total Number of Rows 10\n",
      "10 ,       median       mean      std_dev  ...  max_time  quantile_10  quantile_90\n",
      "0  22518.05  23591.509  3410.136674  ...   33893.2     20598.16     28543.75\n",
      "\n",
      "[1 rows x 7 columns]\n",
      "_______________________________________\n",
      "Total Number of Rows 100\n",
      "100 ,      median       mean     std_dev  min_time  max_time  quantile_10  quantile_90\n",
      "0  3250.75  3368.4515  657.706795   2548.97   5910.18     2720.068     4158.719\n",
      "_______________________________________\n",
      "Total Number of Rows 1000\n",
      "1000 ,       median        mean     std_dev  ...  max_time  quantile_10  quantile_90\n",
      "0  1030.976  1053.77984  160.887653  ...  2091.094     918.4799    1169.0787\n",
      "\n",
      "[1 rows x 7 columns]\n",
      "__________________Summary_______________________\n",
      "       median          mean  ...  quantile_90  No_of_Observation\n",
      "0  227928.000  277372.21000  ...  292373.7000                  1\n",
      "0   22518.050   23591.50900  ...   28543.7500                 10\n",
      "0    3250.750    3368.45150  ...    4158.7190                100\n",
      "0    1030.976    1053.77984  ...    1169.0787               1000\n",
      "\n",
      "[4 rows x 8 columns]\n"
     ]
    },
    {
     "name": "stderr",
     "output_type": "stream",
     "text": [
      "Intel(R) oneAPI Data Analytics Library solvers for sklearn enabled: https://intelpython.github.io/daal4py/sklearn.html\n"
     ]
    }
   ],
   "source": [
    "!python run.py -m=rf_patch_training -o=1000"
   ]
  },
  {
   "cell_type": "code",
   "execution_count": 48,
   "metadata": {},
   "outputs": [
    {
     "name": "stdout",
     "output_type": "stream",
     "text": [
      "Computing for KMeans Clustering training with Daal patch\n",
      "_______________________________________\n",
      "Total Number of Rows 100\n",
      "100 ,      median      mean      std_dev  min_time  max_time  quantile_10  quantile_90\n",
      "0  367.115  672.3276  2909.830117    357.89  29620.51      361.118      400.186\n",
      "_______________________________________\n",
      "Total Number of Rows 1000\n",
      "1000 ,     median       mean   std_dev  min_time  max_time  quantile_10  quantile_90\n",
      "0   138.4  138.84453  9.034068   127.792   161.294     129.3894     153.0565\n",
      "_______________________________________\n",
      "Total Number of Rows 10000\n",
      "10000 ,       median       mean  std_dev  min_time  max_time  quantile_10  quantile_90\n",
      "0  59.38785  61.320896  8.85169   52.6641  112.4915     55.25836     67.32558\n",
      "__________________Summary_______________________\n",
      "      median        mean  ...  quantile_90  No_of_Observation\n",
      "0  367.11500  672.327600  ...    400.18600                100\n",
      "0  138.40000  138.844530  ...    153.05650               1000\n",
      "0   59.38785   61.320896  ...     67.32558              10000\n",
      "\n",
      "[3 rows x 8 columns]\n"
     ]
    },
    {
     "name": "stderr",
     "output_type": "stream",
     "text": [
      "Intel(R) oneAPI Data Analytics Library solvers for sklearn enabled: https://intelpython.github.io/daal4py/sklearn.html\n"
     ]
    }
   ],
   "source": [
    "!python run.py -m=kmeans_patch_training -o=10000"
   ]
  },
  {
   "cell_type": "code",
   "execution_count": 49,
   "metadata": {},
   "outputs": [
    {
     "name": "stdout",
     "output_type": "stream",
     "text": [
      "Computing for KMeans Clustering Training without Daal\n",
      "_______________________________________\n",
      "Total Number of Rows 100\n",
      "100 ,       median       mean    std_dev  min_time  max_time  quantile_10  quantile_90\n",
      "0  1633.135  1642.1368  73.613336   1596.96   2314.39     1607.618     1653.046\n",
      "_______________________________________\n",
      "Total Number of Rows 1000\n",
      "1000 ,       median      mean     std_dev  min_time  max_time  quantile_10  quantile_90\n",
      "0  963.0275  972.9862  313.085712   683.579  2598.442     705.3378    1268.7269\n",
      "_______________________________________\n",
      "Total Number of Rows 10000\n",
      "10000 ,        median        mean    std_dev  ...  max_time  quantile_10  quantile_90\n",
      "0  421.05285  434.932535  36.943774  ...  601.4371    404.65822    483.72684\n",
      "\n",
      "[1 rows x 7 columns]\n",
      "__________________Summary_______________________\n",
      "       median         mean  ...  quantile_90  No_of_Observation\n",
      "0  1633.13500  1642.136800  ...   1653.04600                100\n",
      "0   963.02750   972.986200  ...   1268.72690               1000\n",
      "0   421.05285   434.932535  ...    483.72684              10000\n",
      "\n",
      "[3 rows x 8 columns]\n"
     ]
    }
   ],
   "source": [
    "!python run.py -m=kmeans_training -o=10000"
   ]
  },
  {
   "cell_type": "code",
   "execution_count": 50,
   "metadata": {},
   "outputs": [
    {
     "name": "stdout",
     "output_type": "stream",
     "text": [
      "Computing for Kmeans with Daal\n",
      "_______________________________________\n",
      "Total Number of Rows 100\n",
      "100 ,     median      mean      std_dev  min_time  max_time  quantile_10  quantile_90\n",
      "0  128.49  471.4812  3380.893458    114.68   34110.5      118.196      139.546\n",
      "_______________________________________\n",
      "Total Number of Rows 1000\n",
      "1000 ,     median      mean  std_dev  min_time  max_time  quantile_10  quantile_90\n",
      "0  31.023  32.55733   4.2073    29.319    51.464      29.8551      39.0271\n",
      "_______________________________________\n",
      "Total Number of Rows 10000\n",
      "10000 ,       median       mean  std_dev  min_time  max_time  quantile_10  quantile_90\n",
      "0  17.13445  17.573382  2.34444   14.7176   26.4971     15.06318     20.64833\n",
      "__________________Summary_______________________\n",
      "      median        mean  ...  quantile_90  No_of_Observation\n",
      "0  128.49000  471.481200  ...    139.54600                100\n",
      "0   31.02300   32.557330  ...     39.02710               1000\n",
      "0   17.13445   17.573382  ...     20.64833              10000\n",
      "\n",
      "[3 rows x 8 columns]\n"
     ]
    }
   ],
   "source": [
    "!python run.py -m=daal_kmeans_training -o=10000"
   ]
  },
  {
   "cell_type": "code",
   "execution_count": 11,
   "metadata": {},
   "outputs": [
    {
     "name": "stdout",
     "output_type": "stream",
     "text": [
      "Computing for Logistic Regression With Daal\n",
      "_______________________________________\n",
      "Total Number of Rows 1000\n",
      "1000 ,      median       mean    std_dev  min_time  max_time  quantile_10  quantile_90\n",
      "0  691.463  698.63183  37.216228   650.585   845.903     658.8245     747.8225\n",
      "_______________________________________\n",
      "Total Number of Rows 10000\n",
      "10000 ,        median         mean     std_dev  ...   max_time  quantile_10  quantile_90\n",
      "0  1239.8564  1280.954323  110.835537  ...  1720.1054   1183.39097   1438.84914\n",
      "\n",
      "[1 rows x 7 columns]\n",
      "__________________Summary_______________________\n",
      "      median         mean  ...  quantile_90  No_of_Observation\n",
      "0   691.4630   698.631830  ...    747.82250               1000\n",
      "0  1239.8564  1280.954323  ...   1438.84914              10000\n",
      "\n",
      "[2 rows x 8 columns]\n"
     ]
    }
   ],
   "source": [
    "!python run.py -m=daal_logit_training -o=10000"
   ]
  },
  {
   "cell_type": "code",
   "execution_count": 8,
   "metadata": {},
   "outputs": [
    {
     "name": "stdout",
     "output_type": "stream",
     "text": [
      "_______________________________________\n",
      "Total Number of Rows 100\n",
      "100 ,      median      mean     std_dev  min_time  max_time  quantile_10  quantile_90\n",
      "0  446.945  496.6904  308.239391     441.1   3436.49      442.406      471.803\n",
      "_______________________________________\n",
      "Total Number of Rows 1000\n",
      "1000 ,      median      mean   std_dev  min_time  max_time  quantile_10  quantile_90\n",
      "0  40.9695  44.00471  9.580868    40.065    130.96      40.2587      49.7815\n",
      "_______________________________________\n",
      "Total Number of Rows 10000\n",
      "10000 ,      median       mean   std_dev  min_time  max_time  quantile_10  quantile_90\n",
      "0  10.1483  10.532132  1.070856    9.2712   13.1263      9.35151     11.73382\n",
      "__________________Summary_______________________\n",
      "     median        mean  ...  quantile_90  No_of_Observation\n",
      "0  446.9450  496.690400  ...    471.80300                100\n",
      "0   40.9695   44.004710  ...     49.78150               1000\n",
      "0   10.1483   10.532132  ...     11.73382              10000\n",
      "\n",
      "[3 rows x 8 columns]\n"
     ]
    }
   ],
   "source": [
    "!python run.py -m=logit_training -o=10000"
   ]
  },
  {
   "cell_type": "code",
   "execution_count": 9,
   "metadata": {},
   "outputs": [
    {
     "name": "stdout",
     "output_type": "stream",
     "text": [
      "_______________________________________\n",
      "Total Number of Rows 100\n",
      "100 ,      median      mean      std_dev  min_time  max_time  quantile_10  quantile_90\n",
      "0  323.495  692.1829  3212.797098     295.6  32639.42      303.209      541.967\n",
      "_______________________________________\n",
      "Total Number of Rows 1000\n",
      "1000 ,     median      mean   std_dev  min_time  max_time  quantile_10  quantile_90\n",
      "0  31.212  31.59378  1.150046    30.843    39.924       30.922      32.7376\n",
      "_______________________________________\n",
      "Total Number of Rows 10000\n",
      "10000 ,     median      mean   std_dev  min_time  max_time  quantile_10  quantile_90\n",
      "0  6.2889  7.397315  2.639471    5.9313   17.6496      5.98119     12.56549\n",
      "__________________Summary_______________________\n",
      "     median        mean  ...  quantile_90  No_of_Observation\n",
      "0  323.4950  692.182900  ...    541.96700                100\n",
      "0   31.2120   31.593780  ...     32.73760               1000\n",
      "0    6.2889    7.397315  ...     12.56549              10000\n",
      "\n",
      "[3 rows x 8 columns]\n"
     ]
    },
    {
     "name": "stderr",
     "output_type": "stream",
     "text": [
      "Intel(R) oneAPI Data Analytics Library solvers for sklearn enabled: https://intelpython.github.io/daal4py/sklearn.html\n"
     ]
    }
   ],
   "source": [
    "!python run.py -m=logit_patch_training -o=10000"
   ]
  },
  {
   "cell_type": "code",
   "execution_count": 10,
   "metadata": {},
   "outputs": [
    {
     "name": "stdout",
     "output_type": "stream",
     "text": [
      "Computing for Logistic Regression without Daal\n",
      "_______________________________________\n",
      "Total Number of Rows 1\n",
      "1 ,      median      mean     std_dev  min_time  max_time  quantile_10  quantile_90\n",
      "0  17356.5  17258.09  837.826737   15469.0   23692.0      16310.9      17453.2\n",
      "_______________________________________\n",
      "Total Number of Rows 10\n",
      "10 ,     median      mean      std_dev  min_time  max_time  quantile_10  quantile_90\n",
      "0  1481.6  1698.925  1379.361601    1452.7   14629.2      1461.06      1613.59\n",
      "_______________________________________\n",
      "Total Number of Rows 100\n",
      "100 ,      median      mean    std_dev  min_time  max_time  quantile_10  quantile_90\n",
      "0  177.135  180.3898  18.640971    148.44    292.03      167.496      187.514\n",
      "_______________________________________\n",
      "Total Number of Rows 1000\n",
      "1000 ,     median     mean   std_dev  min_time  max_time  quantile_10  quantile_90\n",
      "0  15.255  16.5487  2.121999    14.821    26.881      14.9219      19.1888\n",
      "_______________________________________\n",
      "Total Number of Rows 10000\n",
      "10000 ,     median      mean   std_dev  min_time  max_time  quantile_10  quantile_90\n",
      "0  2.0563  2.099729  0.241798    1.6569    3.0501      1.77598      2.32557\n",
      "__________________Summary_______________________\n",
      "       median          mean  ...  quantile_90  No_of_Observation\n",
      "0  17356.5000  17258.090000  ...  17453.20000                  1\n",
      "0   1481.6000   1698.925000  ...   1613.59000                 10\n",
      "0    177.1350    180.389800  ...    187.51400                100\n",
      "0     15.2550     16.548700  ...     19.18880               1000\n",
      "0      2.0563      2.099729  ...      2.32557              10000\n",
      "\n",
      "[5 rows x 8 columns]\n"
     ]
    },
    {
     "name": "stderr",
     "output_type": "stream",
     "text": [
      "Intel(R) oneAPI Data Analytics Library solvers for sklearn enabled: https://intelpython.github.io/daal4py/sklearn.html\n"
     ]
    }
   ],
   "source": [
    "!python run.py -m=logit_patch -o=10000"
   ]
  },
  {
   "cell_type": "code",
   "execution_count": null,
   "metadata": {},
   "outputs": [],
   "source": []
  }
 ],
 "metadata": {
  "kernelspec": {
   "display_name": "Python 3",
   "language": "python",
   "name": "python3"
  },
  "language_info": {
   "codemirror_mode": {
    "name": "ipython",
    "version": 3
   },
   "file_extension": ".py",
   "mimetype": "text/x-python",
   "name": "python",
   "nbconvert_exporter": "python",
   "pygments_lexer": "ipython3",
   "version": "3.6.8"
  }
 },
 "nbformat": 4,
 "nbformat_minor": 2
}
